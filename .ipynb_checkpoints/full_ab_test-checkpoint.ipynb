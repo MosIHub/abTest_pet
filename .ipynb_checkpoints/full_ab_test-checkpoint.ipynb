{
 "cells": [
  {
   "cell_type": "code",
   "execution_count": 1,
   "id": "8f7c4fdb",
   "metadata": {},
   "outputs": [],
   "source": [
    "import sqlite3\n",
    "import pandas as pd\n",
    "import numpy as np\n",
    "from scipy import stats\n",
    "from tqdm.auto import tqdm\n",
    "import matplotlib.pyplot as plt\n",
    "import seaborn as sns\n",
    "import random\n",
    "\n",
    "sns.set(\n",
    "    font_scale=1.3,\n",
    "    style=\"whitegrid\", \n",
    "    rc={'figure.figsize':(9,4)})"
   ]
  },
  {
   "cell_type": "code",
   "execution_count": 2,
   "id": "3cf71d31",
   "metadata": {},
   "outputs": [
    {
     "data": {
      "text/html": [
       "<div>\n",
       "<style scoped>\n",
       "    .dataframe tbody tr th:only-of-type {\n",
       "        vertical-align: middle;\n",
       "    }\n",
       "\n",
       "    .dataframe tbody tr th {\n",
       "        vertical-align: top;\n",
       "    }\n",
       "\n",
       "    .dataframe thead th {\n",
       "        text-align: right;\n",
       "    }\n",
       "</style>\n",
       "<table border=\"1\" class=\"dataframe\">\n",
       "  <thead>\n",
       "    <tr style=\"text-align: right;\">\n",
       "      <th></th>\n",
       "      <th>date</th>\n",
       "      <th>user_id</th>\n",
       "      <th>exp_group</th>\n",
       "      <th>session_id</th>\n",
       "      <th>session_length</th>\n",
       "      <th>device</th>\n",
       "      <th>order_cnt</th>\n",
       "      <th>price</th>\n",
       "      <th>quantity_cnt</th>\n",
       "    </tr>\n",
       "  </thead>\n",
       "  <tbody>\n",
       "    <tr>\n",
       "      <th>0</th>\n",
       "      <td>2022-06-21</td>\n",
       "      <td>1727468184902936832</td>\n",
       "      <td>0</td>\n",
       "      <td>16557919071727468184902936832</td>\n",
       "      <td>1752</td>\n",
       "      <td>mobile</td>\n",
       "      <td>0</td>\n",
       "      <td>0.0</td>\n",
       "      <td>0</td>\n",
       "    </tr>\n",
       "    <tr>\n",
       "      <th>1</th>\n",
       "      <td>2022-06-21</td>\n",
       "      <td>3556219827372626733</td>\n",
       "      <td>0</td>\n",
       "      <td>16558186423556219827372626733</td>\n",
       "      <td>86</td>\n",
       "      <td>mobile</td>\n",
       "      <td>0</td>\n",
       "      <td>0.0</td>\n",
       "      <td>0</td>\n",
       "    </tr>\n",
       "    <tr>\n",
       "      <th>2</th>\n",
       "      <td>2022-06-21</td>\n",
       "      <td>2136855388003761026</td>\n",
       "      <td>0</td>\n",
       "      <td>16558402842136855388003761026</td>\n",
       "      <td>222</td>\n",
       "      <td>mobile</td>\n",
       "      <td>0</td>\n",
       "      <td>0.0</td>\n",
       "      <td>0</td>\n",
       "    </tr>\n",
       "    <tr>\n",
       "      <th>3</th>\n",
       "      <td>2022-06-21</td>\n",
       "      <td>4593970126020001597</td>\n",
       "      <td>0</td>\n",
       "      <td>16558003654593970126020001597</td>\n",
       "      <td>400</td>\n",
       "      <td>mobile</td>\n",
       "      <td>0</td>\n",
       "      <td>0.0</td>\n",
       "      <td>0</td>\n",
       "    </tr>\n",
       "    <tr>\n",
       "      <th>4</th>\n",
       "      <td>2022-06-21</td>\n",
       "      <td>3962568860806737949</td>\n",
       "      <td>1</td>\n",
       "      <td>16558324233962568860806737949</td>\n",
       "      <td>1300</td>\n",
       "      <td>mobile</td>\n",
       "      <td>0</td>\n",
       "      <td>0.0</td>\n",
       "      <td>0</td>\n",
       "    </tr>\n",
       "  </tbody>\n",
       "</table>\n",
       "</div>"
      ],
      "text/plain": [
       "        date              user_id  exp_group                     session_id  \\\n",
       "0 2022-06-21  1727468184902936832          0  16557919071727468184902936832   \n",
       "1 2022-06-21  3556219827372626733          0  16558186423556219827372626733   \n",
       "2 2022-06-21  2136855388003761026          0  16558402842136855388003761026   \n",
       "3 2022-06-21  4593970126020001597          0  16558003654593970126020001597   \n",
       "4 2022-06-21  3962568860806737949          1  16558324233962568860806737949   \n",
       "\n",
       "   session_length  device  order_cnt  price  quantity_cnt  \n",
       "0            1752  mobile          0    0.0             0  \n",
       "1              86  mobile          0    0.0             0  \n",
       "2             222  mobile          0    0.0             0  \n",
       "3             400  mobile          0    0.0             0  \n",
       "4            1300  mobile          0    0.0             0  "
      ]
     },
     "execution_count": 2,
     "metadata": {},
     "output_type": "execute_result"
    }
   ],
   "source": [
    "df = pd.read_csv('/Users/ilamosin/abTest_pet/app_logs.csv', parse_dates=['date'])\n",
    "df.head(5)"
   ]
  },
  {
   "cell_type": "markdown",
   "id": "2cbcd4b1",
   "metadata": {},
   "source": [
    "## EDA (exploratory data analysis)"
   ]
  },
  {
   "cell_type": "markdown",
   "id": "e97423c6",
   "metadata": {},
   "source": [
    "We released new interface feature on all platforms and want to know is it helpful for our users and is there profit for our product and business."
   ]
  },
  {
   "cell_type": "code",
   "execution_count": 3,
   "id": "7e6adf2d",
   "metadata": {},
   "outputs": [
    {
     "name": "stdout",
     "output_type": "stream",
     "text": [
      "<class 'pandas.core.frame.DataFrame'>\n",
      "RangeIndex: 269142 entries, 0 to 269141\n",
      "Data columns (total 9 columns):\n",
      " #   Column          Non-Null Count   Dtype         \n",
      "---  ------          --------------   -----         \n",
      " 0   date            269142 non-null  datetime64[ns]\n",
      " 1   user_id         269142 non-null  int64         \n",
      " 2   exp_group       269142 non-null  int64         \n",
      " 3   session_id      269142 non-null  object        \n",
      " 4   session_length  269142 non-null  int64         \n",
      " 5   device          269142 non-null  object        \n",
      " 6   order_cnt       269142 non-null  int64         \n",
      " 7   price           269142 non-null  float64       \n",
      " 8   quantity_cnt    269142 non-null  int64         \n",
      "dtypes: datetime64[ns](1), float64(1), int64(5), object(2)\n",
      "memory usage: 18.5+ MB\n"
     ]
    }
   ],
   "source": [
    "df.info()"
   ]
  },
  {
   "cell_type": "code",
   "execution_count": 4,
   "id": "bd608978",
   "metadata": {},
   "outputs": [
    {
     "name": "stdout",
     "output_type": "stream",
     "text": [
      "Devices which users use: ['mobile' 'desktop' 'tablet']\n",
      "Unique users count: 68287\n",
      "Unique session count: 267929\n",
      "Max date: 2022-07-13 00:00:00\n",
      "Min date: 2022-06-21 00:00:00\n",
      "Diff between count session_id and unique session_id : 1213\n"
     ]
    }
   ],
   "source": [
    "print(f'Devices which users use: {df.device.unique()}')\n",
    "print(f'Unique users count: {df.user_id.nunique()}')\n",
    "print(f'Unique session count: {df.session_id.nunique()}')\n",
    "print(f'Max date: {df.date.max()}')\n",
    "print(f'Min date: {df.date.min()}')\n",
    "print(f'Diff between count session_id and unique session_id : {df.session_id.count()-df.session_id.nunique()}')"
   ]
  },
  {
   "cell_type": "markdown",
   "id": "33be133a",
   "metadata": {},
   "source": [
    "We have diff between count session_id and unique session_id. Lets see reason"
   ]
  },
  {
   "cell_type": "code",
   "execution_count": 5,
   "id": "c53a89ff",
   "metadata": {},
   "outputs": [
    {
     "data": {
      "text/html": [
       "<div>\n",
       "<style scoped>\n",
       "    .dataframe tbody tr th:only-of-type {\n",
       "        vertical-align: middle;\n",
       "    }\n",
       "\n",
       "    .dataframe tbody tr th {\n",
       "        vertical-align: top;\n",
       "    }\n",
       "\n",
       "    .dataframe thead th {\n",
       "        text-align: right;\n",
       "    }\n",
       "</style>\n",
       "<table border=\"1\" class=\"dataframe\">\n",
       "  <thead>\n",
       "    <tr style=\"text-align: right;\">\n",
       "      <th></th>\n",
       "      <th>user_id</th>\n",
       "      <th>count_s</th>\n",
       "    </tr>\n",
       "  </thead>\n",
       "  <tbody>\n",
       "    <tr>\n",
       "      <th>0</th>\n",
       "      <td>7377259055888388543</td>\n",
       "      <td>174</td>\n",
       "    </tr>\n",
       "    <tr>\n",
       "      <th>1</th>\n",
       "      <td>2643534565406623178</td>\n",
       "      <td>98</td>\n",
       "    </tr>\n",
       "    <tr>\n",
       "      <th>2</th>\n",
       "      <td>5649845706405562462</td>\n",
       "      <td>76</td>\n",
       "    </tr>\n",
       "    <tr>\n",
       "      <th>3</th>\n",
       "      <td>7460365642247924721</td>\n",
       "      <td>71</td>\n",
       "    </tr>\n",
       "    <tr>\n",
       "      <th>4</th>\n",
       "      <td>7369859312574859099</td>\n",
       "      <td>69</td>\n",
       "    </tr>\n",
       "    <tr>\n",
       "      <th>...</th>\n",
       "      <td>...</td>\n",
       "      <td>...</td>\n",
       "    </tr>\n",
       "    <tr>\n",
       "      <th>43618</th>\n",
       "      <td>6467165119456300660</td>\n",
       "      <td>2</td>\n",
       "    </tr>\n",
       "    <tr>\n",
       "      <th>43619</th>\n",
       "      <td>6468351909120185336</td>\n",
       "      <td>2</td>\n",
       "    </tr>\n",
       "    <tr>\n",
       "      <th>43620</th>\n",
       "      <td>6469145490238627906</td>\n",
       "      <td>2</td>\n",
       "    </tr>\n",
       "    <tr>\n",
       "      <th>43621</th>\n",
       "      <td>2498253306598377956</td>\n",
       "      <td>2</td>\n",
       "    </tr>\n",
       "    <tr>\n",
       "      <th>43622</th>\n",
       "      <td>125741107230500</td>\n",
       "      <td>2</td>\n",
       "    </tr>\n",
       "  </tbody>\n",
       "</table>\n",
       "<p>43623 rows × 2 columns</p>\n",
       "</div>"
      ],
      "text/plain": [
       "                   user_id  count_s\n",
       "0      7377259055888388543      174\n",
       "1      2643534565406623178       98\n",
       "2      5649845706405562462       76\n",
       "3      7460365642247924721       71\n",
       "4      7369859312574859099       69\n",
       "...                    ...      ...\n",
       "43618  6467165119456300660        2\n",
       "43619  6468351909120185336        2\n",
       "43620  6469145490238627906        2\n",
       "43621  2498253306598377956        2\n",
       "43622      125741107230500        2\n",
       "\n",
       "[43623 rows x 2 columns]"
      ]
     },
     "execution_count": 5,
     "metadata": {},
     "output_type": "execute_result"
    }
   ],
   "source": [
    "df\\\n",
    "    .groupby(['user_id'])\\\n",
    "    .agg({'session_id':'count'})\\\n",
    "    .rename(columns={'session_id':'count_s'})\\\n",
    "    .query('count_s>1')\\\n",
    "    .sort_values('count_s', ascending=False)\\\n",
    "    .reset_index()"
   ]
  },
  {
   "cell_type": "code",
   "execution_count": 6,
   "id": "fcb01b10",
   "metadata": {},
   "outputs": [
    {
     "data": {
      "text/html": [
       "<div>\n",
       "<style scoped>\n",
       "    .dataframe tbody tr th:only-of-type {\n",
       "        vertical-align: middle;\n",
       "    }\n",
       "\n",
       "    .dataframe tbody tr th {\n",
       "        vertical-align: top;\n",
       "    }\n",
       "\n",
       "    .dataframe thead th {\n",
       "        text-align: right;\n",
       "    }\n",
       "</style>\n",
       "<table border=\"1\" class=\"dataframe\">\n",
       "  <thead>\n",
       "    <tr style=\"text-align: right;\">\n",
       "      <th></th>\n",
       "      <th>session_id</th>\n",
       "      <th>count_s</th>\n",
       "    </tr>\n",
       "  </thead>\n",
       "  <tbody>\n",
       "    <tr>\n",
       "      <th>0</th>\n",
       "      <td>16560175507409553825524332660</td>\n",
       "      <td>2</td>\n",
       "    </tr>\n",
       "    <tr>\n",
       "      <th>1</th>\n",
       "      <td>16559276085512268394876973018</td>\n",
       "      <td>2</td>\n",
       "    </tr>\n",
       "    <tr>\n",
       "      <th>2</th>\n",
       "      <td>1657399292201521318881768162</td>\n",
       "      <td>2</td>\n",
       "    </tr>\n",
       "    <tr>\n",
       "      <th>3</th>\n",
       "      <td>16575709214204538462046366116</td>\n",
       "      <td>2</td>\n",
       "    </tr>\n",
       "    <tr>\n",
       "      <th>4</th>\n",
       "      <td>16573992148146586641762132070</td>\n",
       "      <td>2</td>\n",
       "    </tr>\n",
       "    <tr>\n",
       "      <th>...</th>\n",
       "      <td>...</td>\n",
       "      <td>...</td>\n",
       "    </tr>\n",
       "    <tr>\n",
       "      <th>267924</th>\n",
       "      <td>16563990755253181081283755878</td>\n",
       "      <td>1</td>\n",
       "    </tr>\n",
       "    <tr>\n",
       "      <th>267925</th>\n",
       "      <td>16563990788523577941634717732</td>\n",
       "      <td>1</td>\n",
       "    </tr>\n",
       "    <tr>\n",
       "      <th>267926</th>\n",
       "      <td>1656399079289698032552999956</td>\n",
       "      <td>1</td>\n",
       "    </tr>\n",
       "    <tr>\n",
       "      <th>267927</th>\n",
       "      <td>16563990805888036677082088496</td>\n",
       "      <td>1</td>\n",
       "    </tr>\n",
       "    <tr>\n",
       "      <th>267928</th>\n",
       "      <td>16577459835781689953944467307</td>\n",
       "      <td>1</td>\n",
       "    </tr>\n",
       "  </tbody>\n",
       "</table>\n",
       "<p>267929 rows × 2 columns</p>\n",
       "</div>"
      ],
      "text/plain": [
       "                           session_id  count_s\n",
       "0       16560175507409553825524332660        2\n",
       "1       16559276085512268394876973018        2\n",
       "2        1657399292201521318881768162        2\n",
       "3       16575709214204538462046366116        2\n",
       "4       16573992148146586641762132070        2\n",
       "...                               ...      ...\n",
       "267924  16563990755253181081283755878        1\n",
       "267925  16563990788523577941634717732        1\n",
       "267926   1656399079289698032552999956        1\n",
       "267927  16563990805888036677082088496        1\n",
       "267928  16577459835781689953944467307        1\n",
       "\n",
       "[267929 rows x 2 columns]"
      ]
     },
     "execution_count": 6,
     "metadata": {},
     "output_type": "execute_result"
    }
   ],
   "source": [
    "df\\\n",
    "    .groupby(['session_id'])\\\n",
    "    .agg({'user_id':'count'})\\\n",
    "    .rename(columns={'user_id':'count_s'})\\\n",
    "    .sort_values('count_s', ascending=False)\\\n",
    "    .reset_index()"
   ]
  },
  {
   "cell_type": "code",
   "execution_count": 7,
   "id": "e4875a36",
   "metadata": {},
   "outputs": [
    {
     "data": {
      "text/html": [
       "<div>\n",
       "<style scoped>\n",
       "    .dataframe tbody tr th:only-of-type {\n",
       "        vertical-align: middle;\n",
       "    }\n",
       "\n",
       "    .dataframe tbody tr th {\n",
       "        vertical-align: top;\n",
       "    }\n",
       "\n",
       "    .dataframe thead th {\n",
       "        text-align: right;\n",
       "    }\n",
       "</style>\n",
       "<table border=\"1\" class=\"dataframe\">\n",
       "  <thead>\n",
       "    <tr style=\"text-align: right;\">\n",
       "      <th></th>\n",
       "      <th>date</th>\n",
       "      <th>user_id</th>\n",
       "      <th>exp_group</th>\n",
       "      <th>session_id</th>\n",
       "      <th>session_length</th>\n",
       "      <th>device</th>\n",
       "      <th>order_cnt</th>\n",
       "      <th>price</th>\n",
       "      <th>quantity_cnt</th>\n",
       "    </tr>\n",
       "  </thead>\n",
       "  <tbody>\n",
       "    <tr>\n",
       "      <th>21538</th>\n",
       "      <td>2022-06-22</td>\n",
       "      <td>6087415308146188769</td>\n",
       "      <td>1</td>\n",
       "      <td>16559187906087415308146188769</td>\n",
       "      <td>1490</td>\n",
       "      <td>mobile</td>\n",
       "      <td>0</td>\n",
       "      <td>0.0</td>\n",
       "      <td>0</td>\n",
       "    </tr>\n",
       "    <tr>\n",
       "      <th>19002</th>\n",
       "      <td>2022-06-22</td>\n",
       "      <td>6087415308146188769</td>\n",
       "      <td>1</td>\n",
       "      <td>16559205736087415308146188769</td>\n",
       "      <td>444</td>\n",
       "      <td>mobile</td>\n",
       "      <td>0</td>\n",
       "      <td>0.0</td>\n",
       "      <td>0</td>\n",
       "    </tr>\n",
       "    <tr>\n",
       "      <th>123840</th>\n",
       "      <td>2022-06-30</td>\n",
       "      <td>6087415308146188769</td>\n",
       "      <td>1</td>\n",
       "      <td>16566202796087415308146188769</td>\n",
       "      <td>953</td>\n",
       "      <td>mobile</td>\n",
       "      <td>0</td>\n",
       "      <td>0.0</td>\n",
       "      <td>0</td>\n",
       "    </tr>\n",
       "    <tr>\n",
       "      <th>140215</th>\n",
       "      <td>2022-07-02</td>\n",
       "      <td>6087415308146188769</td>\n",
       "      <td>1</td>\n",
       "      <td>16567659866087415308146188769</td>\n",
       "      <td>321</td>\n",
       "      <td>mobile</td>\n",
       "      <td>0</td>\n",
       "      <td>0.0</td>\n",
       "      <td>0</td>\n",
       "    </tr>\n",
       "    <tr>\n",
       "      <th>140183</th>\n",
       "      <td>2022-07-02</td>\n",
       "      <td>6087415308146188769</td>\n",
       "      <td>1</td>\n",
       "      <td>16567732036087415308146188769</td>\n",
       "      <td>1516</td>\n",
       "      <td>mobile</td>\n",
       "      <td>0</td>\n",
       "      <td>0.0</td>\n",
       "      <td>0</td>\n",
       "    </tr>\n",
       "    <tr>\n",
       "      <th>143798</th>\n",
       "      <td>2022-07-02</td>\n",
       "      <td>6087415308146188769</td>\n",
       "      <td>1</td>\n",
       "      <td>16567944336087415308146188769</td>\n",
       "      <td>1149</td>\n",
       "      <td>mobile</td>\n",
       "      <td>0</td>\n",
       "      <td>0.0</td>\n",
       "      <td>0</td>\n",
       "    </tr>\n",
       "    <tr>\n",
       "      <th>149475</th>\n",
       "      <td>2022-07-03</td>\n",
       "      <td>6087415308146188769</td>\n",
       "      <td>1</td>\n",
       "      <td>16567944336087415308146188769</td>\n",
       "      <td>895</td>\n",
       "      <td>mobile</td>\n",
       "      <td>0</td>\n",
       "      <td>0.0</td>\n",
       "      <td>0</td>\n",
       "    </tr>\n",
       "    <tr>\n",
       "      <th>149171</th>\n",
       "      <td>2022-07-03</td>\n",
       "      <td>6087415308146188769</td>\n",
       "      <td>1</td>\n",
       "      <td>16568252596087415308146188769</td>\n",
       "      <td>567</td>\n",
       "      <td>mobile</td>\n",
       "      <td>0</td>\n",
       "      <td>0.0</td>\n",
       "      <td>0</td>\n",
       "    </tr>\n",
       "    <tr>\n",
       "      <th>153690</th>\n",
       "      <td>2022-07-03</td>\n",
       "      <td>6087415308146188769</td>\n",
       "      <td>1</td>\n",
       "      <td>16568343986087415308146188769</td>\n",
       "      <td>16</td>\n",
       "      <td>mobile</td>\n",
       "      <td>0</td>\n",
       "      <td>0.0</td>\n",
       "      <td>0</td>\n",
       "    </tr>\n",
       "    <tr>\n",
       "      <th>153601</th>\n",
       "      <td>2022-07-03</td>\n",
       "      <td>6087415308146188769</td>\n",
       "      <td>1</td>\n",
       "      <td>16568538586087415308146188769</td>\n",
       "      <td>1003</td>\n",
       "      <td>mobile</td>\n",
       "      <td>0</td>\n",
       "      <td>0.0</td>\n",
       "      <td>0</td>\n",
       "    </tr>\n",
       "    <tr>\n",
       "      <th>145067</th>\n",
       "      <td>2022-07-03</td>\n",
       "      <td>6087415308146188769</td>\n",
       "      <td>1</td>\n",
       "      <td>16568771556087415308146188769</td>\n",
       "      <td>629</td>\n",
       "      <td>mobile</td>\n",
       "      <td>0</td>\n",
       "      <td>0.0</td>\n",
       "      <td>0</td>\n",
       "    </tr>\n",
       "    <tr>\n",
       "      <th>156418</th>\n",
       "      <td>2022-07-04</td>\n",
       "      <td>6087415308146188769</td>\n",
       "      <td>1</td>\n",
       "      <td>16569154926087415308146188769</td>\n",
       "      <td>2231</td>\n",
       "      <td>mobile</td>\n",
       "      <td>0</td>\n",
       "      <td>0.0</td>\n",
       "      <td>0</td>\n",
       "    </tr>\n",
       "    <tr>\n",
       "      <th>211741</th>\n",
       "      <td>2022-07-08</td>\n",
       "      <td>6087415308146188769</td>\n",
       "      <td>1</td>\n",
       "      <td>16572555606087415308146188769</td>\n",
       "      <td>345</td>\n",
       "      <td>mobile</td>\n",
       "      <td>0</td>\n",
       "      <td>0.0</td>\n",
       "      <td>0</td>\n",
       "    </tr>\n",
       "    <tr>\n",
       "      <th>236555</th>\n",
       "      <td>2022-07-11</td>\n",
       "      <td>6087415308146188769</td>\n",
       "      <td>1</td>\n",
       "      <td>16574952246087415308146188769</td>\n",
       "      <td>747</td>\n",
       "      <td>mobile</td>\n",
       "      <td>0</td>\n",
       "      <td>0.0</td>\n",
       "      <td>0</td>\n",
       "    </tr>\n",
       "  </tbody>\n",
       "</table>\n",
       "</div>"
      ],
      "text/plain": [
       "             date              user_id  exp_group  \\\n",
       "21538  2022-06-22  6087415308146188769          1   \n",
       "19002  2022-06-22  6087415308146188769          1   \n",
       "123840 2022-06-30  6087415308146188769          1   \n",
       "140215 2022-07-02  6087415308146188769          1   \n",
       "140183 2022-07-02  6087415308146188769          1   \n",
       "143798 2022-07-02  6087415308146188769          1   \n",
       "149475 2022-07-03  6087415308146188769          1   \n",
       "149171 2022-07-03  6087415308146188769          1   \n",
       "153690 2022-07-03  6087415308146188769          1   \n",
       "153601 2022-07-03  6087415308146188769          1   \n",
       "145067 2022-07-03  6087415308146188769          1   \n",
       "156418 2022-07-04  6087415308146188769          1   \n",
       "211741 2022-07-08  6087415308146188769          1   \n",
       "236555 2022-07-11  6087415308146188769          1   \n",
       "\n",
       "                           session_id  session_length  device  order_cnt  \\\n",
       "21538   16559187906087415308146188769            1490  mobile          0   \n",
       "19002   16559205736087415308146188769             444  mobile          0   \n",
       "123840  16566202796087415308146188769             953  mobile          0   \n",
       "140215  16567659866087415308146188769             321  mobile          0   \n",
       "140183  16567732036087415308146188769            1516  mobile          0   \n",
       "143798  16567944336087415308146188769            1149  mobile          0   \n",
       "149475  16567944336087415308146188769             895  mobile          0   \n",
       "149171  16568252596087415308146188769             567  mobile          0   \n",
       "153690  16568343986087415308146188769              16  mobile          0   \n",
       "153601  16568538586087415308146188769            1003  mobile          0   \n",
       "145067  16568771556087415308146188769             629  mobile          0   \n",
       "156418  16569154926087415308146188769            2231  mobile          0   \n",
       "211741  16572555606087415308146188769             345  mobile          0   \n",
       "236555  16574952246087415308146188769             747  mobile          0   \n",
       "\n",
       "        price  quantity_cnt  \n",
       "21538     0.0             0  \n",
       "19002     0.0             0  \n",
       "123840    0.0             0  \n",
       "140215    0.0             0  \n",
       "140183    0.0             0  \n",
       "143798    0.0             0  \n",
       "149475    0.0             0  \n",
       "149171    0.0             0  \n",
       "153690    0.0             0  \n",
       "153601    0.0             0  \n",
       "145067    0.0             0  \n",
       "156418    0.0             0  \n",
       "211741    0.0             0  \n",
       "236555    0.0             0  "
      ]
     },
     "execution_count": 7,
     "metadata": {},
     "output_type": "execute_result"
    }
   ],
   "source": [
    "u_1 = df[df['user_id']==6087415308146188769]\n",
    "u_1.sort_values('session_id')"
   ]
  },
  {
   "cell_type": "code",
   "execution_count": 8,
   "id": "bf409fb5",
   "metadata": {},
   "outputs": [
    {
     "data": {
      "text/plain": [
       "True"
      ]
     },
     "execution_count": 8,
     "metadata": {},
     "output_type": "execute_result"
    }
   ],
   "source": [
    "16567944336087415308146188769==16567944336087415308146188769"
   ]
  },
  {
   "cell_type": "code",
   "execution_count": 9,
   "id": "ceebde1a",
   "metadata": {},
   "outputs": [
    {
     "data": {
      "text/html": [
       "<div>\n",
       "<style scoped>\n",
       "    .dataframe tbody tr th:only-of-type {\n",
       "        vertical-align: middle;\n",
       "    }\n",
       "\n",
       "    .dataframe tbody tr th {\n",
       "        vertical-align: top;\n",
       "    }\n",
       "\n",
       "    .dataframe thead th {\n",
       "        text-align: right;\n",
       "    }\n",
       "</style>\n",
       "<table border=\"1\" class=\"dataframe\">\n",
       "  <thead>\n",
       "    <tr style=\"text-align: right;\">\n",
       "      <th></th>\n",
       "      <th>date</th>\n",
       "      <th>user_id</th>\n",
       "      <th>exp_group</th>\n",
       "      <th>session_id</th>\n",
       "      <th>session_length</th>\n",
       "      <th>device</th>\n",
       "      <th>order_cnt</th>\n",
       "      <th>price</th>\n",
       "      <th>quantity_cnt</th>\n",
       "    </tr>\n",
       "  </thead>\n",
       "  <tbody>\n",
       "    <tr>\n",
       "      <th>5161</th>\n",
       "      <td>2022-06-21</td>\n",
       "      <td>6178250370357987265</td>\n",
       "      <td>1</td>\n",
       "      <td>16558445156178250370357987265</td>\n",
       "      <td>633</td>\n",
       "      <td>mobile</td>\n",
       "      <td>0</td>\n",
       "      <td>0.0</td>\n",
       "      <td>0</td>\n",
       "    </tr>\n",
       "    <tr>\n",
       "      <th>23781</th>\n",
       "      <td>2022-06-22</td>\n",
       "      <td>6178250370357987265</td>\n",
       "      <td>1</td>\n",
       "      <td>16558445156178250370357987265</td>\n",
       "      <td>316</td>\n",
       "      <td>mobile</td>\n",
       "      <td>0</td>\n",
       "      <td>0.0</td>\n",
       "      <td>0</td>\n",
       "    </tr>\n",
       "    <tr>\n",
       "      <th>31597</th>\n",
       "      <td>2022-06-23</td>\n",
       "      <td>6178250370357987265</td>\n",
       "      <td>1</td>\n",
       "      <td>16559587326178250370357987265</td>\n",
       "      <td>1683</td>\n",
       "      <td>mobile</td>\n",
       "      <td>0</td>\n",
       "      <td>0.0</td>\n",
       "      <td>0</td>\n",
       "    </tr>\n",
       "    <tr>\n",
       "      <th>48387</th>\n",
       "      <td>2022-06-24</td>\n",
       "      <td>6178250370357987265</td>\n",
       "      <td>1</td>\n",
       "      <td>16560593176178250370357987265</td>\n",
       "      <td>577</td>\n",
       "      <td>mobile</td>\n",
       "      <td>0</td>\n",
       "      <td>0.0</td>\n",
       "      <td>0</td>\n",
       "    </tr>\n",
       "    <tr>\n",
       "      <th>51182</th>\n",
       "      <td>2022-06-24</td>\n",
       "      <td>6178250370357987265</td>\n",
       "      <td>1</td>\n",
       "      <td>16560830506178250370357987265</td>\n",
       "      <td>225</td>\n",
       "      <td>mobile</td>\n",
       "      <td>0</td>\n",
       "      <td>0.0</td>\n",
       "      <td>0</td>\n",
       "    </tr>\n",
       "    <tr>\n",
       "      <th>171883</th>\n",
       "      <td>2022-07-05</td>\n",
       "      <td>6178250370357987265</td>\n",
       "      <td>1</td>\n",
       "      <td>16569693906178250370357987265</td>\n",
       "      <td>1511</td>\n",
       "      <td>mobile</td>\n",
       "      <td>0</td>\n",
       "      <td>0.0</td>\n",
       "      <td>0</td>\n",
       "    </tr>\n",
       "    <tr>\n",
       "      <th>223502</th>\n",
       "      <td>2022-07-09</td>\n",
       "      <td>6178250370357987265</td>\n",
       "      <td>1</td>\n",
       "      <td>16573493266178250370357987265</td>\n",
       "      <td>779</td>\n",
       "      <td>mobile</td>\n",
       "      <td>0</td>\n",
       "      <td>0.0</td>\n",
       "      <td>0</td>\n",
       "    </tr>\n",
       "    <tr>\n",
       "      <th>259888</th>\n",
       "      <td>2022-07-13</td>\n",
       "      <td>6178250370357987265</td>\n",
       "      <td>1</td>\n",
       "      <td>16577372076178250370357987265</td>\n",
       "      <td>1865</td>\n",
       "      <td>mobile</td>\n",
       "      <td>0</td>\n",
       "      <td>0.0</td>\n",
       "      <td>0</td>\n",
       "    </tr>\n",
       "  </tbody>\n",
       "</table>\n",
       "</div>"
      ],
      "text/plain": [
       "             date              user_id  exp_group  \\\n",
       "5161   2022-06-21  6178250370357987265          1   \n",
       "23781  2022-06-22  6178250370357987265          1   \n",
       "31597  2022-06-23  6178250370357987265          1   \n",
       "48387  2022-06-24  6178250370357987265          1   \n",
       "51182  2022-06-24  6178250370357987265          1   \n",
       "171883 2022-07-05  6178250370357987265          1   \n",
       "223502 2022-07-09  6178250370357987265          1   \n",
       "259888 2022-07-13  6178250370357987265          1   \n",
       "\n",
       "                           session_id  session_length  device  order_cnt  \\\n",
       "5161    16558445156178250370357987265             633  mobile          0   \n",
       "23781   16558445156178250370357987265             316  mobile          0   \n",
       "31597   16559587326178250370357987265            1683  mobile          0   \n",
       "48387   16560593176178250370357987265             577  mobile          0   \n",
       "51182   16560830506178250370357987265             225  mobile          0   \n",
       "171883  16569693906178250370357987265            1511  mobile          0   \n",
       "223502  16573493266178250370357987265             779  mobile          0   \n",
       "259888  16577372076178250370357987265            1865  mobile          0   \n",
       "\n",
       "        price  quantity_cnt  \n",
       "5161      0.0             0  \n",
       "23781     0.0             0  \n",
       "31597     0.0             0  \n",
       "48387     0.0             0  \n",
       "51182     0.0             0  \n",
       "171883    0.0             0  \n",
       "223502    0.0             0  \n",
       "259888    0.0             0  "
      ]
     },
     "execution_count": 9,
     "metadata": {},
     "output_type": "execute_result"
    }
   ],
   "source": [
    "u_2 = df[df['user_id']==6178250370357987265]\n",
    "u_2.sort_values('session_id')"
   ]
  },
  {
   "cell_type": "code",
   "execution_count": 10,
   "id": "e0511fc6",
   "metadata": {},
   "outputs": [
    {
     "data": {
      "text/plain": [
       "True"
      ]
     },
     "execution_count": 10,
     "metadata": {},
     "output_type": "execute_result"
    }
   ],
   "source": [
    "16558445156178250370357987265==16558445156178250370357987265"
   ]
  },
  {
   "cell_type": "code",
   "execution_count": 11,
   "id": "72e71d4b",
   "metadata": {},
   "outputs": [
    {
     "data": {
      "text/plain": [
       "949"
      ]
     },
     "execution_count": 11,
     "metadata": {},
     "output_type": "execute_result"
    }
   ],
   "source": [
    "633+316"
   ]
  },
  {
   "cell_type": "markdown",
   "id": "dbbc3844",
   "metadata": {},
   "source": [
    "The reason why we have duplicated session_id is that users can start sesion at 23.59 PM 23.04.2022 and finish as 00.30 24.04.2022 "
   ]
  },
  {
   "cell_type": "markdown",
   "id": "20607032",
   "metadata": {},
   "source": [
    "I think, we have app where users make orders, something like marketplace. \n",
    "Users can make their orders from devices like mobile, desktop, tablet.\n",
    "Signals which we have: session_length, order_cnt, price, quantity_cnt\n",
    "\n",
    "Now lets aggregate signals to the metriсs, some of it - average check, asl(Average session length), arpu, arppu, count of session, Total number of orders\n",
    "\n",
    "Using sql for this\n",
    "\n",
    "conversion: \n",
    "conversion to payment \n",
    "\n",
    "users:\n",
    "arppu = sum(price)/sum(user_id which make order)\n",
    "arpu = sum(price)/sum(user_id) \n",
    "asl = ((sum sessions length)/(sum count ssessions))\n",
    "count of session = count of seesion on one user\n",
    "\n",
    "ratio metrics:\n",
    "average check = sum(price)/count(price)\n",
    "average number of orders in the check\n",
    "percentage of sessions that ended in payment"
   ]
  },
  {
   "cell_type": "markdown",
   "id": "831a2535",
   "metadata": {},
   "source": [
    "## 2. Aggregating signals to the metrics"
   ]
  },
  {
   "cell_type": "markdown",
   "id": "bef27ffe",
   "metadata": {},
   "source": [
    "## 2.1 SQL"
   ]
  },
  {
   "cell_type": "code",
   "execution_count": 12,
   "id": "19a659ac",
   "metadata": {},
   "outputs": [],
   "source": [
    "con = sqlite3.connect('db')"
   ]
  },
  {
   "cell_type": "code",
   "execution_count": 13,
   "id": "01f417e2",
   "metadata": {},
   "outputs": [
    {
     "data": {
      "text/plain": [
       "269142"
      ]
     },
     "execution_count": 13,
     "metadata": {},
     "output_type": "execute_result"
    }
   ],
   "source": [
    "df.to_sql('metrics', con, index=False, if_exists='replace')"
   ]
  },
  {
   "cell_type": "code",
   "execution_count": 14,
   "id": "80de48da",
   "metadata": {},
   "outputs": [],
   "source": [
    "sql = '''\n",
    "with cte as (\n",
    "        SELECT \n",
    "            user_id,\n",
    "            exp_group,\n",
    "            device,\n",
    "            iif(date<'2022-06-30', 0, 1) as is_exp_period,\n",
    "            session_id,\n",
    "            \n",
    "            sum(price) as spendings,\n",
    "            sum(quantity_cnt) as goods_cnt,\n",
    "            sum(order_cnt) as order_cnt,\n",
    "            \n",
    "            iif(sum(price)>0, 1, 0) as is_session_paid,\n",
    "            sum(session_length) as total_session_log_length\n",
    "        FROM \n",
    "            metrics\n",
    "        GROUP BY\n",
    "            user_id,\n",
    "            exp_group,\n",
    "            device,\n",
    "            is_exp_period,\n",
    "            session_id\n",
    ")\n",
    "SELECT \n",
    "    user_id,\n",
    "    exp_group,\n",
    "    device,\n",
    "    is_exp_period,\n",
    "    \n",
    "    sum(spendings) as spendings,\n",
    "    sum(goods_cnt) as goods_cnt,\n",
    "    sum(order_cnt) as order_cnt,\n",
    "    \n",
    "    iif(sum(is_session_paid)>0, 1, 0) as is_paid,\n",
    "    \n",
    "    sum(is_session_paid) as paid_session_cnt,\n",
    "    count(distinct session_id) as session_cnt,\n",
    "    \n",
    "    sum(log(total_session_log_length)) total_session_log_length\n",
    "FROM\n",
    "    cte\n",
    "GROUP BY\n",
    "    user_id,\n",
    "    exp_group,\n",
    "    device,\n",
    "    is_exp_period\n",
    "'''"
   ]
  },
  {
   "cell_type": "code",
   "execution_count": 15,
   "id": "55c9fb22",
   "metadata": {},
   "outputs": [],
   "source": [
    "df_f = pd.read_sql(sql, con)"
   ]
  },
  {
   "cell_type": "code",
   "execution_count": 16,
   "id": "9c8ef719",
   "metadata": {},
   "outputs": [],
   "source": [
    "def select(sql):\n",
    "    return pd.read_sql(sql,con)"
   ]
  },
  {
   "cell_type": "code",
   "execution_count": 17,
   "id": "8026e4ce",
   "metadata": {},
   "outputs": [
    {
     "data": {
      "text/html": [
       "<div>\n",
       "<style scoped>\n",
       "    .dataframe tbody tr th:only-of-type {\n",
       "        vertical-align: middle;\n",
       "    }\n",
       "\n",
       "    .dataframe tbody tr th {\n",
       "        vertical-align: top;\n",
       "    }\n",
       "\n",
       "    .dataframe thead th {\n",
       "        text-align: right;\n",
       "    }\n",
       "</style>\n",
       "<table border=\"1\" class=\"dataframe\">\n",
       "  <thead>\n",
       "    <tr style=\"text-align: right;\">\n",
       "      <th></th>\n",
       "      <th>user_id</th>\n",
       "      <th>exp_group</th>\n",
       "      <th>device</th>\n",
       "      <th>is_exp_period</th>\n",
       "      <th>spendings</th>\n",
       "      <th>goods_cnt</th>\n",
       "      <th>order_cnt</th>\n",
       "      <th>is_paid</th>\n",
       "      <th>paid_session_cnt</th>\n",
       "      <th>session_cnt</th>\n",
       "      <th>total_session_log_length</th>\n",
       "    </tr>\n",
       "  </thead>\n",
       "  <tbody>\n",
       "    <tr>\n",
       "      <th>0</th>\n",
       "      <td>125741107230500</td>\n",
       "      <td>0</td>\n",
       "      <td>mobile</td>\n",
       "      <td>1</td>\n",
       "      <td>0.0</td>\n",
       "      <td>0</td>\n",
       "      <td>0</td>\n",
       "      <td>0</td>\n",
       "      <td>0</td>\n",
       "      <td>2</td>\n",
       "      <td>5.407785</td>\n",
       "    </tr>\n",
       "    <tr>\n",
       "      <th>1</th>\n",
       "      <td>667585499425385</td>\n",
       "      <td>0</td>\n",
       "      <td>mobile</td>\n",
       "      <td>1</td>\n",
       "      <td>0.0</td>\n",
       "      <td>0</td>\n",
       "      <td>0</td>\n",
       "      <td>0</td>\n",
       "      <td>0</td>\n",
       "      <td>1</td>\n",
       "      <td>2.635484</td>\n",
       "    </tr>\n",
       "    <tr>\n",
       "      <th>2</th>\n",
       "      <td>681720336100105</td>\n",
       "      <td>0</td>\n",
       "      <td>mobile</td>\n",
       "      <td>1</td>\n",
       "      <td>0.0</td>\n",
       "      <td>0</td>\n",
       "      <td>0</td>\n",
       "      <td>0</td>\n",
       "      <td>0</td>\n",
       "      <td>4</td>\n",
       "      <td>9.057257</td>\n",
       "    </tr>\n",
       "    <tr>\n",
       "      <th>3</th>\n",
       "      <td>767791454221621</td>\n",
       "      <td>1</td>\n",
       "      <td>desktop</td>\n",
       "      <td>1</td>\n",
       "      <td>0.0</td>\n",
       "      <td>0</td>\n",
       "      <td>0</td>\n",
       "      <td>0</td>\n",
       "      <td>0</td>\n",
       "      <td>2</td>\n",
       "      <td>4.291813</td>\n",
       "    </tr>\n",
       "    <tr>\n",
       "      <th>4</th>\n",
       "      <td>808009533082155</td>\n",
       "      <td>0</td>\n",
       "      <td>desktop</td>\n",
       "      <td>0</td>\n",
       "      <td>23633.4</td>\n",
       "      <td>66</td>\n",
       "      <td>1</td>\n",
       "      <td>1</td>\n",
       "      <td>1</td>\n",
       "      <td>2</td>\n",
       "      <td>5.044744</td>\n",
       "    </tr>\n",
       "  </tbody>\n",
       "</table>\n",
       "</div>"
      ],
      "text/plain": [
       "           user_id  exp_group   device  is_exp_period  spendings  goods_cnt  \\\n",
       "0  125741107230500          0   mobile              1        0.0          0   \n",
       "1  667585499425385          0   mobile              1        0.0          0   \n",
       "2  681720336100105          0   mobile              1        0.0          0   \n",
       "3  767791454221621          1  desktop              1        0.0          0   \n",
       "4  808009533082155          0  desktop              0    23633.4         66   \n",
       "\n",
       "   order_cnt  is_paid  paid_session_cnt  session_cnt  total_session_log_length  \n",
       "0          0        0                 0            2                  5.407785  \n",
       "1          0        0                 0            1                  2.635484  \n",
       "2          0        0                 0            4                  9.057257  \n",
       "3          0        0                 0            2                  4.291813  \n",
       "4          1        1                 1            2                  5.044744  "
      ]
     },
     "execution_count": 17,
     "metadata": {},
     "output_type": "execute_result"
    }
   ],
   "source": [
    "ag_sign = select(sql)\n",
    "ag_sign.head()"
   ]
  },
  {
   "cell_type": "code",
   "execution_count": 18,
   "id": "1e7e5e70",
   "metadata": {},
   "outputs": [
    {
     "data": {
      "text/plain": [
       "68287"
      ]
     },
     "execution_count": 18,
     "metadata": {},
     "output_type": "execute_result"
    }
   ],
   "source": [
    "ag_sign.user_id.nunique()"
   ]
  },
  {
   "cell_type": "markdown",
   "id": "9c79114e",
   "metadata": {},
   "source": [
    "## 2.2 DF transofmation"
   ]
  },
  {
   "cell_type": "markdown",
   "id": "b8ed7879",
   "metadata": {},
   "source": [
    "Split dataframe on two (befor and after start of the exp), and then merge them for using cuped"
   ]
  },
  {
   "cell_type": "code",
   "execution_count": 164,
   "id": "c00047dd",
   "metadata": {},
   "outputs": [
    {
     "data": {
      "text/html": [
       "<div>\n",
       "<style scoped>\n",
       "    .dataframe tbody tr th:only-of-type {\n",
       "        vertical-align: middle;\n",
       "    }\n",
       "\n",
       "    .dataframe tbody tr th {\n",
       "        vertical-align: top;\n",
       "    }\n",
       "\n",
       "    .dataframe thead th {\n",
       "        text-align: right;\n",
       "    }\n",
       "</style>\n",
       "<table border=\"1\" class=\"dataframe\">\n",
       "  <thead>\n",
       "    <tr style=\"text-align: right;\">\n",
       "      <th></th>\n",
       "      <th>user_id</th>\n",
       "      <th>exp_group_cur</th>\n",
       "      <th>device_cur</th>\n",
       "      <th>is_exp_period_cur</th>\n",
       "      <th>spendings_cur</th>\n",
       "      <th>goods_cnt_cur</th>\n",
       "      <th>order_cnt_cur</th>\n",
       "      <th>is_paid_cur</th>\n",
       "      <th>paid_session_cnt_cur</th>\n",
       "      <th>session_cnt_cur</th>\n",
       "      <th>...</th>\n",
       "      <th>exp_group_bfr</th>\n",
       "      <th>device_bfr</th>\n",
       "      <th>is_exp_period_bfr</th>\n",
       "      <th>spendings_bfr</th>\n",
       "      <th>goods_cnt_bfr</th>\n",
       "      <th>order_cnt_bfr</th>\n",
       "      <th>is_paid_bfr</th>\n",
       "      <th>paid_session_cnt_bfr</th>\n",
       "      <th>session_cnt_bfr</th>\n",
       "      <th>total_session_log_length_bfr</th>\n",
       "    </tr>\n",
       "  </thead>\n",
       "  <tbody>\n",
       "    <tr>\n",
       "      <th>0</th>\n",
       "      <td>125741107230500</td>\n",
       "      <td>0</td>\n",
       "      <td>mobile</td>\n",
       "      <td>1</td>\n",
       "      <td>0.0</td>\n",
       "      <td>0</td>\n",
       "      <td>0</td>\n",
       "      <td>0</td>\n",
       "      <td>0</td>\n",
       "      <td>2</td>\n",
       "      <td>...</td>\n",
       "      <td>NaN</td>\n",
       "      <td>NaN</td>\n",
       "      <td>NaN</td>\n",
       "      <td>NaN</td>\n",
       "      <td>NaN</td>\n",
       "      <td>NaN</td>\n",
       "      <td>NaN</td>\n",
       "      <td>NaN</td>\n",
       "      <td>NaN</td>\n",
       "      <td>NaN</td>\n",
       "    </tr>\n",
       "    <tr>\n",
       "      <th>1</th>\n",
       "      <td>667585499425385</td>\n",
       "      <td>0</td>\n",
       "      <td>mobile</td>\n",
       "      <td>1</td>\n",
       "      <td>0.0</td>\n",
       "      <td>0</td>\n",
       "      <td>0</td>\n",
       "      <td>0</td>\n",
       "      <td>0</td>\n",
       "      <td>1</td>\n",
       "      <td>...</td>\n",
       "      <td>NaN</td>\n",
       "      <td>NaN</td>\n",
       "      <td>NaN</td>\n",
       "      <td>NaN</td>\n",
       "      <td>NaN</td>\n",
       "      <td>NaN</td>\n",
       "      <td>NaN</td>\n",
       "      <td>NaN</td>\n",
       "      <td>NaN</td>\n",
       "      <td>NaN</td>\n",
       "    </tr>\n",
       "    <tr>\n",
       "      <th>2</th>\n",
       "      <td>681720336100105</td>\n",
       "      <td>0</td>\n",
       "      <td>mobile</td>\n",
       "      <td>1</td>\n",
       "      <td>0.0</td>\n",
       "      <td>0</td>\n",
       "      <td>0</td>\n",
       "      <td>0</td>\n",
       "      <td>0</td>\n",
       "      <td>4</td>\n",
       "      <td>...</td>\n",
       "      <td>NaN</td>\n",
       "      <td>NaN</td>\n",
       "      <td>NaN</td>\n",
       "      <td>NaN</td>\n",
       "      <td>NaN</td>\n",
       "      <td>NaN</td>\n",
       "      <td>NaN</td>\n",
       "      <td>NaN</td>\n",
       "      <td>NaN</td>\n",
       "      <td>NaN</td>\n",
       "    </tr>\n",
       "    <tr>\n",
       "      <th>3</th>\n",
       "      <td>767791454221621</td>\n",
       "      <td>1</td>\n",
       "      <td>desktop</td>\n",
       "      <td>1</td>\n",
       "      <td>0.0</td>\n",
       "      <td>0</td>\n",
       "      <td>0</td>\n",
       "      <td>0</td>\n",
       "      <td>0</td>\n",
       "      <td>2</td>\n",
       "      <td>...</td>\n",
       "      <td>NaN</td>\n",
       "      <td>NaN</td>\n",
       "      <td>NaN</td>\n",
       "      <td>NaN</td>\n",
       "      <td>NaN</td>\n",
       "      <td>NaN</td>\n",
       "      <td>NaN</td>\n",
       "      <td>NaN</td>\n",
       "      <td>NaN</td>\n",
       "      <td>NaN</td>\n",
       "    </tr>\n",
       "    <tr>\n",
       "      <th>4</th>\n",
       "      <td>808009533082155</td>\n",
       "      <td>0</td>\n",
       "      <td>desktop</td>\n",
       "      <td>1</td>\n",
       "      <td>0.0</td>\n",
       "      <td>0</td>\n",
       "      <td>0</td>\n",
       "      <td>0</td>\n",
       "      <td>0</td>\n",
       "      <td>1</td>\n",
       "      <td>...</td>\n",
       "      <td>0.0</td>\n",
       "      <td>desktop</td>\n",
       "      <td>0.0</td>\n",
       "      <td>23633.4</td>\n",
       "      <td>66.0</td>\n",
       "      <td>1.0</td>\n",
       "      <td>1.0</td>\n",
       "      <td>1.0</td>\n",
       "      <td>2.0</td>\n",
       "      <td>5.044744</td>\n",
       "    </tr>\n",
       "  </tbody>\n",
       "</table>\n",
       "<p>5 rows × 21 columns</p>\n",
       "</div>"
      ],
      "text/plain": [
       "           user_id  exp_group_cur device_cur  is_exp_period_cur  \\\n",
       "0  125741107230500              0     mobile                  1   \n",
       "1  667585499425385              0     mobile                  1   \n",
       "2  681720336100105              0     mobile                  1   \n",
       "3  767791454221621              1    desktop                  1   \n",
       "4  808009533082155              0    desktop                  1   \n",
       "\n",
       "   spendings_cur  goods_cnt_cur  order_cnt_cur  is_paid_cur  \\\n",
       "0            0.0              0              0            0   \n",
       "1            0.0              0              0            0   \n",
       "2            0.0              0              0            0   \n",
       "3            0.0              0              0            0   \n",
       "4            0.0              0              0            0   \n",
       "\n",
       "   paid_session_cnt_cur  session_cnt_cur  ...  exp_group_bfr  device_bfr  \\\n",
       "0                     0                2  ...            NaN         NaN   \n",
       "1                     0                1  ...            NaN         NaN   \n",
       "2                     0                4  ...            NaN         NaN   \n",
       "3                     0                2  ...            NaN         NaN   \n",
       "4                     0                1  ...            0.0     desktop   \n",
       "\n",
       "  is_exp_period_bfr  spendings_bfr  goods_cnt_bfr  order_cnt_bfr  is_paid_bfr  \\\n",
       "0               NaN            NaN            NaN            NaN          NaN   \n",
       "1               NaN            NaN            NaN            NaN          NaN   \n",
       "2               NaN            NaN            NaN            NaN          NaN   \n",
       "3               NaN            NaN            NaN            NaN          NaN   \n",
       "4               0.0        23633.4           66.0            1.0          1.0   \n",
       "\n",
       "   paid_session_cnt_bfr  session_cnt_bfr  total_session_log_length_bfr  \n",
       "0                   NaN              NaN                           NaN  \n",
       "1                   NaN              NaN                           NaN  \n",
       "2                   NaN              NaN                           NaN  \n",
       "3                   NaN              NaN                           NaN  \n",
       "4                   1.0              2.0                      5.044744  \n",
       "\n",
       "[5 rows x 21 columns]"
      ]
     },
     "execution_count": 164,
     "metadata": {},
     "output_type": "execute_result"
    }
   ],
   "source": [
    "full_exp = ag_sign_aftr_exp_p.merge(ag_sign_bfr_exp_p, on = 'user_id', how = 'left', suffixes=('_cur', '_bfr'))\n",
    "full_exp.head()"
   ]
  },
  {
   "cell_type": "code",
   "execution_count": 165,
   "id": "1e7ea9cd",
   "metadata": {},
   "outputs": [
    {
     "data": {
      "text/plain": [
       "user_id                             0\n",
       "exp_group_cur                       0\n",
       "device_cur                          0\n",
       "is_exp_period_cur                   0\n",
       "spendings_cur                       0\n",
       "goods_cnt_cur                       0\n",
       "order_cnt_cur                       0\n",
       "is_paid_cur                         0\n",
       "paid_session_cnt_cur                0\n",
       "session_cnt_cur                     0\n",
       "total_session_log_length_cur        0\n",
       "exp_group_bfr                   26817\n",
       "device_bfr                      26817\n",
       "is_exp_period_bfr               26817\n",
       "spendings_bfr                   26817\n",
       "goods_cnt_bfr                   26817\n",
       "order_cnt_bfr                   26817\n",
       "is_paid_bfr                     26817\n",
       "paid_session_cnt_bfr            26817\n",
       "session_cnt_bfr                 26817\n",
       "total_session_log_length_bfr    26817\n",
       "dtype: int64"
      ]
     },
     "execution_count": 165,
     "metadata": {},
     "output_type": "execute_result"
    }
   ],
   "source": [
    "full_exp.isna().sum()"
   ]
  },
  {
   "cell_type": "code",
   "execution_count": 166,
   "id": "c6eb8d87",
   "metadata": {},
   "outputs": [
    {
     "name": "stdout",
     "output_type": "stream",
     "text": [
      "<class 'pandas.core.frame.DataFrame'>\n",
      "Int64Index: 50080 entries, 0 to 50079\n",
      "Data columns (total 21 columns):\n",
      " #   Column                        Non-Null Count  Dtype  \n",
      "---  ------                        --------------  -----  \n",
      " 0   user_id                       50080 non-null  int64  \n",
      " 1   exp_group_cur                 50080 non-null  int64  \n",
      " 2   device_cur                    50080 non-null  object \n",
      " 3   is_exp_period_cur             50080 non-null  int64  \n",
      " 4   spendings_cur                 50080 non-null  float64\n",
      " 5   goods_cnt_cur                 50080 non-null  int64  \n",
      " 6   order_cnt_cur                 50080 non-null  int64  \n",
      " 7   is_paid_cur                   50080 non-null  int64  \n",
      " 8   paid_session_cnt_cur          50080 non-null  int64  \n",
      " 9   session_cnt_cur               50080 non-null  int64  \n",
      " 10  total_session_log_length_cur  50080 non-null  float64\n",
      " 11  exp_group_bfr                 23263 non-null  float64\n",
      " 12  device_bfr                    23263 non-null  object \n",
      " 13  is_exp_period_bfr             23263 non-null  float64\n",
      " 14  spendings_bfr                 23263 non-null  float64\n",
      " 15  goods_cnt_bfr                 23263 non-null  float64\n",
      " 16  order_cnt_bfr                 23263 non-null  float64\n",
      " 17  is_paid_bfr                   23263 non-null  float64\n",
      " 18  paid_session_cnt_bfr          23263 non-null  float64\n",
      " 19  session_cnt_bfr               23263 non-null  float64\n",
      " 20  total_session_log_length_bfr  23263 non-null  float64\n",
      "dtypes: float64(11), int64(8), object(2)\n",
      "memory usage: 8.4+ MB\n"
     ]
    }
   ],
   "source": [
    "full_exp.info()"
   ]
  },
  {
   "cell_type": "code",
   "execution_count": 167,
   "id": "ccc59bad",
   "metadata": {},
   "outputs": [],
   "source": [
    "#some transofmation for columns\n",
    "full_exp = full_exp[['exp_group_cur', 'user_id', 'device_cur', 'is_paid_cur',\n",
    "                    'spendings_cur', 'goods_cnt_cur', 'order_cnt_cur', 'paid_session_cnt_cur',\n",
    "                         'total_session_log_length_cur', 'session_cnt_cur',\n",
    "                      'is_paid_bfr', 'spendings_bfr', 'goods_cnt_bfr', 'order_cnt_bfr', \n",
    "                     'paid_session_cnt_bfr', 'total_session_log_length_bfr', 'session_cnt_bfr']]\n",
    "\n",
    "full_exp = full_exp.rename(columns={'exp_group_cur':'exp_group','device_cur':'device'\n",
    "                                   }).fillna(0)"
   ]
  },
  {
   "cell_type": "code",
   "execution_count": 168,
   "id": "ab4fe1a3",
   "metadata": {},
   "outputs": [
    {
     "data": {
      "text/html": [
       "<div>\n",
       "<style scoped>\n",
       "    .dataframe tbody tr th:only-of-type {\n",
       "        vertical-align: middle;\n",
       "    }\n",
       "\n",
       "    .dataframe tbody tr th {\n",
       "        vertical-align: top;\n",
       "    }\n",
       "\n",
       "    .dataframe thead th {\n",
       "        text-align: right;\n",
       "    }\n",
       "</style>\n",
       "<table border=\"1\" class=\"dataframe\">\n",
       "  <thead>\n",
       "    <tr style=\"text-align: right;\">\n",
       "      <th></th>\n",
       "      <th>exp_group</th>\n",
       "      <th>user_id</th>\n",
       "      <th>device</th>\n",
       "      <th>is_paid_cur</th>\n",
       "      <th>spendings_cur</th>\n",
       "      <th>goods_cnt_cur</th>\n",
       "      <th>order_cnt_cur</th>\n",
       "      <th>paid_session_cnt_cur</th>\n",
       "      <th>total_session_log_length_cur</th>\n",
       "      <th>session_cnt_cur</th>\n",
       "      <th>is_paid_bfr</th>\n",
       "      <th>spendings_bfr</th>\n",
       "      <th>goods_cnt_bfr</th>\n",
       "      <th>order_cnt_bfr</th>\n",
       "      <th>paid_session_cnt_bfr</th>\n",
       "      <th>total_session_log_length_bfr</th>\n",
       "      <th>session_cnt_bfr</th>\n",
       "    </tr>\n",
       "  </thead>\n",
       "  <tbody>\n",
       "    <tr>\n",
       "      <th>0</th>\n",
       "      <td>0</td>\n",
       "      <td>125741107230500</td>\n",
       "      <td>mobile</td>\n",
       "      <td>0</td>\n",
       "      <td>0.0</td>\n",
       "      <td>0</td>\n",
       "      <td>0</td>\n",
       "      <td>0</td>\n",
       "      <td>5.407785</td>\n",
       "      <td>2</td>\n",
       "      <td>0.0</td>\n",
       "      <td>0.0</td>\n",
       "      <td>0.0</td>\n",
       "      <td>0.0</td>\n",
       "      <td>0.0</td>\n",
       "      <td>0.000000</td>\n",
       "      <td>0.0</td>\n",
       "    </tr>\n",
       "    <tr>\n",
       "      <th>1</th>\n",
       "      <td>0</td>\n",
       "      <td>667585499425385</td>\n",
       "      <td>mobile</td>\n",
       "      <td>0</td>\n",
       "      <td>0.0</td>\n",
       "      <td>0</td>\n",
       "      <td>0</td>\n",
       "      <td>0</td>\n",
       "      <td>2.635484</td>\n",
       "      <td>1</td>\n",
       "      <td>0.0</td>\n",
       "      <td>0.0</td>\n",
       "      <td>0.0</td>\n",
       "      <td>0.0</td>\n",
       "      <td>0.0</td>\n",
       "      <td>0.000000</td>\n",
       "      <td>0.0</td>\n",
       "    </tr>\n",
       "    <tr>\n",
       "      <th>2</th>\n",
       "      <td>0</td>\n",
       "      <td>681720336100105</td>\n",
       "      <td>mobile</td>\n",
       "      <td>0</td>\n",
       "      <td>0.0</td>\n",
       "      <td>0</td>\n",
       "      <td>0</td>\n",
       "      <td>0</td>\n",
       "      <td>9.057257</td>\n",
       "      <td>4</td>\n",
       "      <td>0.0</td>\n",
       "      <td>0.0</td>\n",
       "      <td>0.0</td>\n",
       "      <td>0.0</td>\n",
       "      <td>0.0</td>\n",
       "      <td>0.000000</td>\n",
       "      <td>0.0</td>\n",
       "    </tr>\n",
       "    <tr>\n",
       "      <th>3</th>\n",
       "      <td>1</td>\n",
       "      <td>767791454221621</td>\n",
       "      <td>desktop</td>\n",
       "      <td>0</td>\n",
       "      <td>0.0</td>\n",
       "      <td>0</td>\n",
       "      <td>0</td>\n",
       "      <td>0</td>\n",
       "      <td>4.291813</td>\n",
       "      <td>2</td>\n",
       "      <td>0.0</td>\n",
       "      <td>0.0</td>\n",
       "      <td>0.0</td>\n",
       "      <td>0.0</td>\n",
       "      <td>0.0</td>\n",
       "      <td>0.000000</td>\n",
       "      <td>0.0</td>\n",
       "    </tr>\n",
       "    <tr>\n",
       "      <th>4</th>\n",
       "      <td>0</td>\n",
       "      <td>808009533082155</td>\n",
       "      <td>desktop</td>\n",
       "      <td>0</td>\n",
       "      <td>0.0</td>\n",
       "      <td>0</td>\n",
       "      <td>0</td>\n",
       "      <td>0</td>\n",
       "      <td>2.721811</td>\n",
       "      <td>1</td>\n",
       "      <td>1.0</td>\n",
       "      <td>23633.4</td>\n",
       "      <td>66.0</td>\n",
       "      <td>1.0</td>\n",
       "      <td>1.0</td>\n",
       "      <td>5.044744</td>\n",
       "      <td>2.0</td>\n",
       "    </tr>\n",
       "  </tbody>\n",
       "</table>\n",
       "</div>"
      ],
      "text/plain": [
       "   exp_group          user_id   device  is_paid_cur  spendings_cur  \\\n",
       "0          0  125741107230500   mobile            0            0.0   \n",
       "1          0  667585499425385   mobile            0            0.0   \n",
       "2          0  681720336100105   mobile            0            0.0   \n",
       "3          1  767791454221621  desktop            0            0.0   \n",
       "4          0  808009533082155  desktop            0            0.0   \n",
       "\n",
       "   goods_cnt_cur  order_cnt_cur  paid_session_cnt_cur  \\\n",
       "0              0              0                     0   \n",
       "1              0              0                     0   \n",
       "2              0              0                     0   \n",
       "3              0              0                     0   \n",
       "4              0              0                     0   \n",
       "\n",
       "   total_session_log_length_cur  session_cnt_cur  is_paid_bfr  spendings_bfr  \\\n",
       "0                      5.407785                2          0.0            0.0   \n",
       "1                      2.635484                1          0.0            0.0   \n",
       "2                      9.057257                4          0.0            0.0   \n",
       "3                      4.291813                2          0.0            0.0   \n",
       "4                      2.721811                1          1.0        23633.4   \n",
       "\n",
       "   goods_cnt_bfr  order_cnt_bfr  paid_session_cnt_bfr  \\\n",
       "0            0.0            0.0                   0.0   \n",
       "1            0.0            0.0                   0.0   \n",
       "2            0.0            0.0                   0.0   \n",
       "3            0.0            0.0                   0.0   \n",
       "4           66.0            1.0                   1.0   \n",
       "\n",
       "   total_session_log_length_bfr  session_cnt_bfr  \n",
       "0                      0.000000              0.0  \n",
       "1                      0.000000              0.0  \n",
       "2                      0.000000              0.0  \n",
       "3                      0.000000              0.0  \n",
       "4                      5.044744              2.0  "
      ]
     },
     "execution_count": 168,
     "metadata": {},
     "output_type": "execute_result"
    }
   ],
   "source": [
    "full_exp.head()"
   ]
  },
  {
   "cell_type": "code",
   "execution_count": 169,
   "id": "1fa6d12d",
   "metadata": {},
   "outputs": [
    {
     "data": {
      "text/plain": [
       "49985"
      ]
     },
     "execution_count": 169,
     "metadata": {},
     "output_type": "execute_result"
    }
   ],
   "source": [
    "full_exp.user_id.nunique()"
   ]
  },
  {
   "cell_type": "code",
   "execution_count": 170,
   "id": "3eb29b35",
   "metadata": {},
   "outputs": [],
   "source": [
    "full_exp['spendings_cur'] = full_exp['spendings_cur'].round(2)\n",
    "full_exp['is_paid_bfr'] = full_exp['is_paid_bfr'].astype('int64')\n",
    "full_exp['spendings_bfr'] = full_exp['spendings_bfr'].round(2)\n",
    "full_exp['goods_cnt_bfr'] = full_exp['goods_cnt_bfr'].astype('int64')\n",
    "full_exp['order_cnt_bfr'] = full_exp['order_cnt_bfr'].astype('int64')\n",
    "full_exp['paid_session_cnt_bfr'] = full_exp['paid_session_cnt_bfr'].astype('int64')\n",
    "full_exp['total_session_log_length_bfr'] = full_exp['total_session_log_length_bfr'].astype('int64')\n",
    "full_exp['session_cnt_bfr'] = full_exp['session_cnt_bfr'].astype('int64')"
   ]
  },
  {
   "cell_type": "markdown",
   "id": "eddce911",
   "metadata": {},
   "source": [
    "# 3. Metrics research and Stat-testing"
   ]
  },
  {
   "cell_type": "code",
   "execution_count": 31,
   "id": "8f1dda02",
   "metadata": {},
   "outputs": [],
   "source": [
    "# aa_test simulations using ttest\n",
    "def aa_test_ttest(signals, n_trails=10000, alpha=0.05):\n",
    "    p_vals = np.array([])\n",
    "    for i in tqdm(range(n_trails)):\n",
    "        hits = np.random.random(len(signals))<0.5\n",
    "        s_1, s_2 = signals[hits], signals[~hits]\n",
    "        p_vals = np.append(p_vals, stats.ttest_ind(s_1,s_2)[1])\n",
    "    fpr = sum(p_vals<alpha)/n_trails\n",
    "    \n",
    "    plt.hist(p_vals, bins = 100)\n",
    "    plt.xlabel('pvalues')\n",
    "    plt.style.use('ggplot')\n",
    "    plt.ylabel('frequency')\n",
    "    plt.title(\"Histogram of ttest A/A simulations \")\n",
    "    plt.show()\n",
    "    \n",
    "    return fpr"
   ]
  },
  {
   "cell_type": "code",
   "execution_count": 39,
   "id": "4ac762de",
   "metadata": {},
   "outputs": [],
   "source": [
    "# aa_test simulations using chi2 test\n",
    "def aa_test_chi2(signals, n_trails=10000, alpha=0.05):\n",
    "    p_vals = np.array([])\n",
    "    \n",
    "    for i in tqdm(range(n_trails)):\n",
    "        \n",
    "        hits = np.random.random(len(signals))<0.5\n",
    "        s_1, s_2 = signals[hits], signals[~hits]\n",
    "        \n",
    "        conv_s1, non_conv_s1 = sum(s_1['is_paid_cur']==1), sum(s_1['is_paid_cur']==0)\n",
    "        conv_s2, non_conv_s2 = sum(s_2['is_paid_cur']==1), sum(s_2['is_paid_cur']==0)\n",
    "        \n",
    "        cross_tab = np.array([[conv_s1, non_conv_s1], [conv_s2, non_conv_s2]])\n",
    "        \n",
    "        p_vals = np.append(p_vals, stats.chi2_contingency(cross_tab)[1])\n",
    "              \n",
    "    fpr = sum(p_vals<alpha)/n_trails\n",
    "    \n",
    "    plt.hist(p_vals, bins = 100)\n",
    "    plt.xlabel('pvalues')\n",
    "    plt.style.use('ggplot')\n",
    "    plt.ylabel('frequency')\n",
    "    plt.title(\"Histogram of ttest A/A simulations \")\n",
    "    plt.show()\n",
    "    \n",
    "    return fpr"
   ]
  },
  {
   "cell_type": "code",
   "execution_count": 76,
   "id": "6fc31bb2",
   "metadata": {},
   "outputs": [],
   "source": [
    "def get_mde(n_c, sd_c, n_t, sd_t, alpha=0.05, power=0.8):\n",
    "    quantiles = stats.norm.ppf(q=1-alpha/2) + stats.norm.ppf(q=power)\n",
    "    se = np.sqrt((sd_t**2 / n_t) + (sd_c**2 / n_c))\n",
    "    return quantiles * se"
   ]
  },
  {
   "cell_type": "markdown",
   "id": "03105db8",
   "metadata": {},
   "source": [
    "## 3.1. Binomial "
   ]
  },
  {
   "cell_type": "markdown",
   "id": "0df9191a",
   "metadata": {},
   "source": [
    "### Conversion"
   ]
  },
  {
   "cell_type": "code",
   "execution_count": 172,
   "id": "43928e85",
   "metadata": {},
   "outputs": [
    {
     "data": {
      "text/html": [
       "<div>\n",
       "<style scoped>\n",
       "    .dataframe tbody tr th:only-of-type {\n",
       "        vertical-align: middle;\n",
       "    }\n",
       "\n",
       "    .dataframe tbody tr th {\n",
       "        vertical-align: top;\n",
       "    }\n",
       "\n",
       "    .dataframe thead th {\n",
       "        text-align: right;\n",
       "    }\n",
       "</style>\n",
       "<table border=\"1\" class=\"dataframe\">\n",
       "  <thead>\n",
       "    <tr style=\"text-align: right;\">\n",
       "      <th></th>\n",
       "      <th>exp_group</th>\n",
       "      <th>device</th>\n",
       "      <th>user_id</th>\n",
       "      <th>is_paid_cur</th>\n",
       "    </tr>\n",
       "  </thead>\n",
       "  <tbody>\n",
       "    <tr>\n",
       "      <th>0</th>\n",
       "      <td>0</td>\n",
       "      <td>mobile</td>\n",
       "      <td>125741107230500</td>\n",
       "      <td>0</td>\n",
       "    </tr>\n",
       "    <tr>\n",
       "      <th>1</th>\n",
       "      <td>0</td>\n",
       "      <td>mobile</td>\n",
       "      <td>667585499425385</td>\n",
       "      <td>0</td>\n",
       "    </tr>\n",
       "    <tr>\n",
       "      <th>2</th>\n",
       "      <td>0</td>\n",
       "      <td>mobile</td>\n",
       "      <td>681720336100105</td>\n",
       "      <td>0</td>\n",
       "    </tr>\n",
       "    <tr>\n",
       "      <th>3</th>\n",
       "      <td>1</td>\n",
       "      <td>desktop</td>\n",
       "      <td>767791454221621</td>\n",
       "      <td>0</td>\n",
       "    </tr>\n",
       "    <tr>\n",
       "      <th>4</th>\n",
       "      <td>0</td>\n",
       "      <td>desktop</td>\n",
       "      <td>808009533082155</td>\n",
       "      <td>0</td>\n",
       "    </tr>\n",
       "  </tbody>\n",
       "</table>\n",
       "</div>"
      ],
      "text/plain": [
       "   exp_group   device          user_id  is_paid_cur\n",
       "0          0   mobile  125741107230500            0\n",
       "1          0   mobile  667585499425385            0\n",
       "2          0   mobile  681720336100105            0\n",
       "3          1  desktop  767791454221621            0\n",
       "4          0  desktop  808009533082155            0"
      ]
     },
     "execution_count": 172,
     "metadata": {},
     "output_type": "execute_result"
    }
   ],
   "source": [
    "conv = full_exp[['exp_group', 'device', 'user_id', 'is_paid_cur']]\n",
    "conv.head()  "
   ]
  },
  {
   "cell_type": "code",
   "execution_count": 173,
   "id": "51afda6e",
   "metadata": {},
   "outputs": [],
   "source": [
    "c = conv.groupby(['exp_group', 'device'], as_index=False)\\\n",
    "    .agg(count_u=('user_id','count'))\\\n",
    "    .sort_values('device')"
   ]
  },
  {
   "cell_type": "code",
   "execution_count": 174,
   "id": "304cad8a",
   "metadata": {},
   "outputs": [
    {
     "data": {
      "text/plain": [
       "<AxesSubplot:xlabel='device', ylabel='count_u'>"
      ]
     },
     "execution_count": 174,
     "metadata": {},
     "output_type": "execute_result"
    },
    {
     "data": {
      "image/png": "[encoded data removed]",
      "text/plain": [
       "<Figure size 648x288 with 1 Axes>"
      ]
     },
     "metadata": {},
     "output_type": "display_data"
    }
   ],
   "source": [
    "sns.barplot(data= c, y = 'count_u' ,x  = 'device', hue='exp_group')"
   ]
  },
  {
   "cell_type": "markdown",
   "id": "424c6213",
   "metadata": {},
   "source": [
    "#### Conversion A/A test"
   ]
  },
  {
   "cell_type": "code",
   "execution_count": 175,
   "id": "d35f3b1c",
   "metadata": {},
   "outputs": [
    {
     "data": {
      "application/vnd.jupyter.widget-view+json": {
       "model_id": "535d3b633e6141239401a41af8f6e44e",
       "version_major": 2,
       "version_minor": 0
      },
      "text/plain": [
       "  0%|          | 0/10000 [00:00<?, ?it/s]"
      ]
     },
     "metadata": {},
     "output_type": "display_data"
    },
    {
     "data": {
      "image/png": "[encoded data removed]",
      "text/plain": [
       "<Figure size 648x288 with 1 Axes>"
      ]
     },
     "metadata": {},
     "output_type": "display_data"
    },
    {
     "data": {
      "text/plain": [
       "0.0521"
      ]
     },
     "execution_count": 175,
     "metadata": {},
     "output_type": "execute_result"
    }
   ],
   "source": [
    "signals = conv[['exp_group', 'is_paid_cur']]\n",
    "signals = signals[signals['exp_group']==0]\n",
    "\n",
    "aa_test_ttest(signals)"
   ]
  },
  {
   "cell_type": "code",
   "execution_count": 176,
   "id": "733824dd",
   "metadata": {},
   "outputs": [
    {
     "data": {
      "application/vnd.jupyter.widget-view+json": {
       "model_id": "611060c7f5ff46a8a2db0c1a197776cb",
       "version_major": 2,
       "version_minor": 0
      },
      "text/plain": [
       "  0%|          | 0/10000 [00:00<?, ?it/s]"
      ]
     },
     "metadata": {},
     "output_type": "display_data"
    },
    {
     "data": {
      "image/png": "[encoded data removed]",
      "text/plain": [
       "<Figure size 648x288 with 1 Axes>"
      ]
     },
     "metadata": {},
     "output_type": "display_data"
    },
    {
     "data": {
      "text/plain": [
       "0.0467"
      ]
     },
     "execution_count": 176,
     "metadata": {},
     "output_type": "execute_result"
    }
   ],
   "source": [
    "signals = conv[['exp_group', 'is_paid_cur']]\n",
    "signals = signals[signals['exp_group']==0]\n",
    "\n",
    "aa_test_chi2(signals)"
   ]
  },
  {
   "cell_type": "markdown",
   "id": "221a6936",
   "metadata": {},
   "source": [
    "Checking full conv"
   ]
  },
  {
   "cell_type": "code",
   "execution_count": 41,
   "id": "f800e1ab",
   "metadata": {
    "scrolled": true
   },
   "outputs": [
    {
     "name": "stdout",
     "output_type": "stream",
     "text": [
      "conv_full_contr = 0.1381202290076336\n",
      "conv_full_test = 0.1465420410783055\n"
     ]
    }
   ],
   "source": [
    "print(f\"conv_full_contr = {conv[(conv['is_paid_cur']!=0) & (conv['exp_group']==0)].is_paid_cur.count()/conv[conv['exp_group']==0].exp_group.count()}\")\n",
    "print(f\"conv_full_test = {conv[(conv['is_paid_cur']!=0) & (conv['exp_group']==1)].is_paid_cur.count()/conv[conv['exp_group']==1].exp_group.count()}\")"
   ]
  },
  {
   "cell_type": "code",
   "execution_count": 178,
   "id": "44017a04",
   "metadata": {},
   "outputs": [],
   "source": [
    "contr_conv_full = conv[conv['exp_group']==0]\n",
    "test_conv_full = conv[conv['exp_group']==1]"
   ]
  },
  {
   "cell_type": "code",
   "execution_count": 180,
   "id": "d979c605",
   "metadata": {},
   "outputs": [
    {
     "data": {
      "text/html": [
       "<div>\n",
       "<style scoped>\n",
       "    .dataframe tbody tr th:only-of-type {\n",
       "        vertical-align: middle;\n",
       "    }\n",
       "\n",
       "    .dataframe tbody tr th {\n",
       "        vertical-align: top;\n",
       "    }\n",
       "\n",
       "    .dataframe thead th {\n",
       "        text-align: right;\n",
       "    }\n",
       "</style>\n",
       "<table border=\"1\" class=\"dataframe\">\n",
       "  <thead>\n",
       "    <tr style=\"text-align: right;\">\n",
       "      <th></th>\n",
       "      <th>metric_name</th>\n",
       "      <th>device</th>\n",
       "      <th>diff</th>\n",
       "      <th>diff%</th>\n",
       "      <th>mde</th>\n",
       "      <th>p_val_chi2</th>\n",
       "      <th>p_val_ttest</th>\n",
       "    </tr>\n",
       "  </thead>\n",
       "  <tbody>\n",
       "    <tr>\n",
       "      <th>0</th>\n",
       "      <td>conv</td>\n",
       "      <td>full</td>\n",
       "      <td>0.008422</td>\n",
       "      <td>6.09745</td>\n",
       "      <td>0.008748</td>\n",
       "      <td>0.007265</td>\n",
       "      <td>0.006991</td>\n",
       "    </tr>\n",
       "  </tbody>\n",
       "</table>\n",
       "</div>"
      ],
      "text/plain": [
       "  metric_name device      diff    diff%       mde  p_val_chi2  p_val_ttest\n",
       "0        conv   full  0.008422  6.09745  0.008748    0.007265     0.006991"
      ]
     },
     "execution_count": 180,
     "metadata": {},
     "output_type": "execute_result"
    }
   ],
   "source": [
    "metric_name_f = [] \n",
    "device_f = []\n",
    "diff_lst_f = []\n",
    "diff_abs_lst_f = []\n",
    "p_val_chi2_f = []\n",
    "p_val_ttest_f = []\n",
    "mde_lst_f = []\n",
    "\n",
    "p_chi2  = stats.chi2_contingency(pd.crosstab(conv.is_paid_cur, conv.exp_group))[1]\n",
    "\n",
    "p_ttest = stats.ttest_ind(contr_conv_full.is_paid_cur, test_conv_full.is_paid_cur)[1]\n",
    "    \n",
    "diff = test_conv_full.is_paid_cur.mean()-contr_conv_full.is_paid_cur.mean()\n",
    "\n",
    "diff_abs = diff*100/contr_conv_full.is_paid_cur.mean()\n",
    "\n",
    "mde = get_mde(len(contr_conv_full),\n",
    "    np.std((contr_conv_full.is_paid_cur), ddof=1),\n",
    "    len(test_conv_full),\n",
    "    np.std((test_conv_full.is_paid_cur), ddof=1), alpha=0.05, power=0.8)\n",
    "        \n",
    "metric_name_f.append('conv')\n",
    "device_f.append('full')\n",
    "diff_lst_f.append(diff)\n",
    "diff_abs_lst_f.append(diff_abs)\n",
    "mde_lst_f.append(mde)\n",
    "p_val_chi2_f.append(p_chi2)\n",
    "p_val_ttest_f.append(p_ttest)\n",
    "\n",
    "conv_df = pd.DataFrame({'metric_name':metric_name_f, 'device':device_f, 'diff':diff_lst_f,\n",
    "                        'diff%':diff_abs_lst_f, 'mde':mde_lst_f,\n",
    "                            'p_val_chi2':p_val_chi2_f,'p_val_ttest':p_val_ttest_f})\n",
    "conv_df"
   ]
  },
  {
   "cell_type": "code",
   "execution_count": 181,
   "id": "0db24700",
   "metadata": {},
   "outputs": [
    {
     "data": {
      "text/html": [
       "<div>\n",
       "<style scoped>\n",
       "    .dataframe tbody tr th:only-of-type {\n",
       "        vertical-align: middle;\n",
       "    }\n",
       "\n",
       "    .dataframe tbody tr th {\n",
       "        vertical-align: top;\n",
       "    }\n",
       "\n",
       "    .dataframe thead th {\n",
       "        text-align: right;\n",
       "    }\n",
       "</style>\n",
       "<table border=\"1\" class=\"dataframe\">\n",
       "  <thead>\n",
       "    <tr style=\"text-align: right;\">\n",
       "      <th></th>\n",
       "      <th>metric_name</th>\n",
       "      <th>device</th>\n",
       "      <th>diff</th>\n",
       "      <th>diff%</th>\n",
       "      <th>mde</th>\n",
       "      <th>p_val_chi2</th>\n",
       "      <th>p_val_ttest</th>\n",
       "    </tr>\n",
       "  </thead>\n",
       "  <tbody>\n",
       "    <tr>\n",
       "      <th>0</th>\n",
       "      <td>conv</td>\n",
       "      <td>desktop</td>\n",
       "      <td>0.009249</td>\n",
       "      <td>4.412779</td>\n",
       "      <td>0.014655</td>\n",
       "      <td>0.079685</td>\n",
       "      <td>0.077057</td>\n",
       "    </tr>\n",
       "    <tr>\n",
       "      <th>1</th>\n",
       "      <td>conv</td>\n",
       "      <td>mobile</td>\n",
       "      <td>0.005274</td>\n",
       "      <td>7.618399</td>\n",
       "      <td>0.009192</td>\n",
       "      <td>0.113375</td>\n",
       "      <td>0.107887</td>\n",
       "    </tr>\n",
       "    <tr>\n",
       "      <th>2</th>\n",
       "      <td>conv</td>\n",
       "      <td>tablet</td>\n",
       "      <td>0.044898</td>\n",
       "      <td>50.650233</td>\n",
       "      <td>0.067753</td>\n",
       "      <td>0.079975</td>\n",
       "      <td>0.061152</td>\n",
       "    </tr>\n",
       "    <tr>\n",
       "      <th>0</th>\n",
       "      <td>conv</td>\n",
       "      <td>full</td>\n",
       "      <td>0.008422</td>\n",
       "      <td>6.097450</td>\n",
       "      <td>0.008748</td>\n",
       "      <td>0.007265</td>\n",
       "      <td>0.006991</td>\n",
       "    </tr>\n",
       "  </tbody>\n",
       "</table>\n",
       "</div>"
      ],
      "text/plain": [
       "  metric_name   device      diff      diff%       mde  p_val_chi2  p_val_ttest\n",
       "0        conv  desktop  0.009249   4.412779  0.014655    0.079685     0.077057\n",
       "1        conv   mobile  0.005274   7.618399  0.009192    0.113375     0.107887\n",
       "2        conv   tablet  0.044898  50.650233  0.067753    0.079975     0.061152\n",
       "0        conv     full  0.008422   6.097450  0.008748    0.007265     0.006991"
      ]
     },
     "execution_count": 181,
     "metadata": {},
     "output_type": "execute_result"
    }
   ],
   "source": [
    "devices = ['desktop', 'mobile', 'tablet']\n",
    "metric_name = [] \n",
    "device = []\n",
    "diff_lst = []\n",
    "diff_abs_lst = []\n",
    "p_val_chi2 = []\n",
    "p_val_ttest = []\n",
    "mde_lst = []\n",
    "\n",
    "\n",
    "for i in range(len(devices)):\n",
    "    conv_new = conv[conv['device']==devices[i]]\n",
    "    conv_d = conv_new[['exp_group','user_id','is_paid_cur']]\n",
    "    crosstab = pd.crosstab(conv_d.is_paid_cur, conv_d.exp_group)\n",
    "    \n",
    "    p_chi2 = stats.chi2_contingency(crosstab)[1]\n",
    "    \n",
    "    contr_conv = conv_d[conv_d['exp_group']==0]\n",
    "    test_conv = conv_d[conv_d['exp_group']==1]\n",
    "    \n",
    "    p_ttest = stats.ttest_ind(contr_conv.is_paid_cur, test_conv.is_paid_cur)[1]\n",
    "    \n",
    "    diff = test_conv.is_paid_cur.mean()-contr_conv.is_paid_cur.mean()\n",
    "    diff_abs = diff*100/contr_conv.is_paid_cur.mean()\n",
    "    \n",
    "    mde = get_mde(len(contr_conv),\n",
    "        np.std((contr_conv.is_paid_cur), ddof=1),\n",
    "        len(test_conv),\n",
    "        np.std((test_conv.is_paid_cur), ddof=1), alpha=0.05, power=0.8)\n",
    "    \n",
    "    metric_name.append('conv')\n",
    "    device.append(devices[i])\n",
    "    diff_lst.append(diff)\n",
    "    diff_abs_lst.append(diff_abs)\n",
    "    mde_lst.append(mde)\n",
    "    p_val_chi2.append(p_chi2)\n",
    "    p_val_ttest.append(p_ttest)\n",
    "    \n",
    "    result_df = pd.DataFrame({'metric_name':metric_name, 'device':device, 'diff':diff_lst,\n",
    "                        'diff%':diff_abs_lst, 'mde':mde_lst,\n",
    "                            'p_val_chi2':p_val_chi2,'p_val_ttest':p_val_ttest})\n",
    "    \n",
    "result_df_1 = pd.concat([result_df, conv_df], axis=0, join=\"inner\")\n",
    "result_df_1"
   ]
  },
  {
   "cell_type": "markdown",
   "id": "1c4e6d1c",
   "metadata": {},
   "source": [
    "Checking desktop conv"
   ]
  },
  {
   "cell_type": "code",
   "execution_count": 44,
   "id": "701a97cf",
   "metadata": {},
   "outputs": [
    {
     "data": {
      "text/html": [
       "<div>\n",
       "<style scoped>\n",
       "    .dataframe tbody tr th:only-of-type {\n",
       "        vertical-align: middle;\n",
       "    }\n",
       "\n",
       "    .dataframe tbody tr th {\n",
       "        vertical-align: top;\n",
       "    }\n",
       "\n",
       "    .dataframe thead th {\n",
       "        text-align: right;\n",
       "    }\n",
       "</style>\n",
       "<table border=\"1\" class=\"dataframe\">\n",
       "  <thead>\n",
       "    <tr style=\"text-align: right;\">\n",
       "      <th>exp_group</th>\n",
       "      <th>0</th>\n",
       "      <th>1</th>\n",
       "    </tr>\n",
       "    <tr>\n",
       "      <th>is_paid_cur</th>\n",
       "      <th></th>\n",
       "      <th></th>\n",
       "    </tr>\n",
       "  </thead>\n",
       "  <tbody>\n",
       "    <tr>\n",
       "      <th>0</th>\n",
       "      <td>9718</td>\n",
       "      <td>9616</td>\n",
       "    </tr>\n",
       "    <tr>\n",
       "      <th>1</th>\n",
       "      <td>2577</td>\n",
       "      <td>2694</td>\n",
       "    </tr>\n",
       "  </tbody>\n",
       "</table>\n",
       "</div>"
      ],
      "text/plain": [
       "exp_group       0     1\n",
       "is_paid_cur            \n",
       "0            9718  9616\n",
       "1            2577  2694"
      ]
     },
     "execution_count": 44,
     "metadata": {},
     "output_type": "execute_result"
    }
   ],
   "source": [
    "desktop_conv = conv[conv['device']=='desktop']\n",
    "desktop_conv = desktop_conv[['exp_group','user_id','is_paid_cur']]\n",
    "desktop_crosstab = pd.crosstab(desktop_conv.is_paid_cur, desktop_conv.exp_group)\n",
    "desktop_crosstab"
   ]
  },
  {
   "cell_type": "code",
   "execution_count": 45,
   "id": "3cc4754d",
   "metadata": {},
   "outputs": [
    {
     "name": "stdout",
     "output_type": "stream",
     "text": [
      "conv_desktop_contr = 0.20959739731598212\n",
      "conv_desktop_test = 0.21884646628757107\n"
     ]
    }
   ],
   "source": [
    "print(f\"conv_desktop_contr = {desktop_conv[(desktop_conv['is_paid_cur']!=0) & (desktop_conv['exp_group']==0)].is_paid_cur.count()/desktop_conv[desktop_conv['exp_group']==0].exp_group.count()}\")\n",
    "print(f\"conv_desktop_test = {desktop_conv[(desktop_conv['is_paid_cur']!=0) & (desktop_conv['exp_group']==1)].is_paid_cur.count()/desktop_conv[desktop_conv['exp_group']==1].exp_group.count()}\")"
   ]
  },
  {
   "cell_type": "code",
   "execution_count": 46,
   "id": "a33f9593",
   "metadata": {},
   "outputs": [
    {
     "data": {
      "text/plain": [
       "(3.0713126698312383, 0.07968510444629265)"
      ]
     },
     "execution_count": 46,
     "metadata": {},
     "output_type": "execute_result"
    }
   ],
   "source": [
    "stat, p, dof, expected = stats.chi2_contingency(desktop_crosstab)\n",
    "stat, p"
   ]
  },
  {
   "cell_type": "code",
   "execution_count": 47,
   "id": "76597781",
   "metadata": {},
   "outputs": [
    {
     "data": {
      "text/plain": [
       "Ttest_indResult(statistic=-1.7680948900666364, pvalue=0.07705743260493729)"
      ]
     },
     "execution_count": 47,
     "metadata": {},
     "output_type": "execute_result"
    }
   ],
   "source": [
    "stats.ttest_ind(desktop_conv[desktop_conv['exp_group']==0].is_paid_cur, desktop_conv[desktop_conv['exp_group']==1].is_paid_cur)"
   ]
  },
  {
   "cell_type": "code",
   "execution_count": 140,
   "id": "340a7029",
   "metadata": {},
   "outputs": [
    {
     "data": {
      "text/plain": [
       "Ttest_indResult(statistic=-2.6973694266147765, pvalue=0.0069913081277990065)"
      ]
     },
     "execution_count": 140,
     "metadata": {},
     "output_type": "execute_result"
    }
   ],
   "source": [
    "stats.ttest_ind(contr_conv_full.is_paid_cur, test_conv_full.is_paid_cur)"
   ]
  },
  {
   "cell_type": "markdown",
   "id": "e6fa6145",
   "metadata": {},
   "source": [
    "Checking mobile conv"
   ]
  },
  {
   "cell_type": "code",
   "execution_count": 48,
   "id": "fcfb230c",
   "metadata": {},
   "outputs": [
    {
     "data": {
      "text/html": [
       "<div>\n",
       "<style scoped>\n",
       "    .dataframe tbody tr th:only-of-type {\n",
       "        vertical-align: middle;\n",
       "    }\n",
       "\n",
       "    .dataframe tbody tr th {\n",
       "        vertical-align: top;\n",
       "    }\n",
       "\n",
       "    .dataframe thead th {\n",
       "        text-align: right;\n",
       "    }\n",
       "</style>\n",
       "<table border=\"1\" class=\"dataframe\">\n",
       "  <thead>\n",
       "    <tr style=\"text-align: right;\">\n",
       "      <th>exp_group</th>\n",
       "      <th>0</th>\n",
       "      <th>1</th>\n",
       "    </tr>\n",
       "    <tr>\n",
       "      <th>is_paid_cur</th>\n",
       "      <th></th>\n",
       "      <th></th>\n",
       "    </tr>\n",
       "  </thead>\n",
       "  <tbody>\n",
       "    <tr>\n",
       "      <th>0</th>\n",
       "      <td>11631</td>\n",
       "      <td>11380</td>\n",
       "    </tr>\n",
       "    <tr>\n",
       "      <th>1</th>\n",
       "      <td>865</td>\n",
       "      <td>916</td>\n",
       "    </tr>\n",
       "  </tbody>\n",
       "</table>\n",
       "</div>"
      ],
      "text/plain": [
       "exp_group        0      1\n",
       "is_paid_cur              \n",
       "0            11631  11380\n",
       "1              865    916"
      ]
     },
     "execution_count": 48,
     "metadata": {},
     "output_type": "execute_result"
    }
   ],
   "source": [
    "mobile_conv = conv[conv['device']=='mobile']\n",
    "mobile_conv = mobile_conv[['exp_group','user_id','is_paid_cur']]\n",
    "mobile_crosstab = pd.crosstab(mobile_conv.is_paid_cur, mobile_conv.exp_group)\n",
    "mobile_crosstab"
   ]
  },
  {
   "cell_type": "code",
   "execution_count": 49,
   "id": "90ae69e3",
   "metadata": {},
   "outputs": [
    {
     "name": "stdout",
     "output_type": "stream",
     "text": [
      "conv_mobile_contr = 0.06922215108834827\n",
      "conv_mobile_test = 0.07449577098243332\n"
     ]
    }
   ],
   "source": [
    "print(f\"conv_mobile_contr = {mobile_conv[(mobile_conv['is_paid_cur']!=0) & (mobile_conv['exp_group']==0)].is_paid_cur.count()/mobile_conv[mobile_conv['exp_group']==0].exp_group.count()}\")\n",
    "print(f\"conv_mobile_test = {mobile_conv[(mobile_conv['is_paid_cur']!=0) & (mobile_conv['exp_group']==1)].is_paid_cur.count()/mobile_conv[mobile_conv['exp_group']==1].exp_group.count()}\")"
   ]
  },
  {
   "cell_type": "code",
   "execution_count": 50,
   "id": "4e3e98bc",
   "metadata": {},
   "outputs": [
    {
     "data": {
      "text/plain": [
       "(2.506537523339744, 0.11337478669751457)"
      ]
     },
     "execution_count": 50,
     "metadata": {},
     "output_type": "execute_result"
    }
   ],
   "source": [
    "stat, p, dof, expected = stats.chi2_contingency(mobile_crosstab)\n",
    "stat, p"
   ]
  },
  {
   "cell_type": "code",
   "execution_count": 51,
   "id": "8333ace2",
   "metadata": {},
   "outputs": [
    {
     "data": {
      "text/plain": [
       "Ttest_indResult(statistic=-1.6078201226161073, pvalue=0.10788731485440034)"
      ]
     },
     "execution_count": 51,
     "metadata": {},
     "output_type": "execute_result"
    }
   ],
   "source": [
    "stats.ttest_ind(mobile_conv[mobile_conv['exp_group']==0].is_paid_cur, mobile_conv[mobile_conv['exp_group']==1].is_paid_cur)"
   ]
  },
  {
   "cell_type": "markdown",
   "id": "9b2dbbe5",
   "metadata": {},
   "source": [
    "Checking tablet conv"
   ]
  },
  {
   "cell_type": "code",
   "execution_count": 52,
   "id": "23cee555",
   "metadata": {},
   "outputs": [
    {
     "data": {
      "text/html": [
       "<div>\n",
       "<style scoped>\n",
       "    .dataframe tbody tr th:only-of-type {\n",
       "        vertical-align: middle;\n",
       "    }\n",
       "\n",
       "    .dataframe tbody tr th {\n",
       "        vertical-align: top;\n",
       "    }\n",
       "\n",
       "    .dataframe thead th {\n",
       "        text-align: right;\n",
       "    }\n",
       "</style>\n",
       "<table border=\"1\" class=\"dataframe\">\n",
       "  <thead>\n",
       "    <tr style=\"text-align: right;\">\n",
       "      <th>exp_group</th>\n",
       "      <th>0</th>\n",
       "      <th>1</th>\n",
       "    </tr>\n",
       "    <tr>\n",
       "      <th>is_paid_cur</th>\n",
       "      <th></th>\n",
       "      <th></th>\n",
       "    </tr>\n",
       "  </thead>\n",
       "  <tbody>\n",
       "    <tr>\n",
       "      <th>0</th>\n",
       "      <td>329</td>\n",
       "      <td>279</td>\n",
       "    </tr>\n",
       "    <tr>\n",
       "      <th>1</th>\n",
       "      <td>32</td>\n",
       "      <td>43</td>\n",
       "    </tr>\n",
       "  </tbody>\n",
       "</table>\n",
       "</div>"
      ],
      "text/plain": [
       "exp_group      0    1\n",
       "is_paid_cur          \n",
       "0            329  279\n",
       "1             32   43"
      ]
     },
     "execution_count": 52,
     "metadata": {},
     "output_type": "execute_result"
    }
   ],
   "source": [
    "tablet_conv = conv[conv['device']=='tablet']\n",
    "tablet_conv = tablet_conv[['exp_group','user_id','is_paid_cur']]\n",
    "tablet_crosstab = pd.crosstab(tablet_conv.is_paid_cur, tablet_conv.exp_group)\n",
    "tablet_crosstab"
   ]
  },
  {
   "cell_type": "code",
   "execution_count": 53,
   "id": "ed01544b",
   "metadata": {},
   "outputs": [
    {
     "name": "stdout",
     "output_type": "stream",
     "text": [
      "conv_mobile_contr = 0.0886426592797784\n",
      "conv_mobile_test = 0.13354037267080746\n"
     ]
    }
   ],
   "source": [
    "print(f\"conv_mobile_contr = {tablet_conv[(tablet_conv['is_paid_cur']!=0) & (tablet_conv['exp_group']==0)].is_paid_cur.count()/tablet_conv[tablet_conv['exp_group']==0].exp_group.count()}\")\n",
    "print(f\"conv_mobile_test = {tablet_conv[(tablet_conv['is_paid_cur']!=0) & (tablet_conv['exp_group']==1)].is_paid_cur.count()/tablet_conv[tablet_conv['exp_group']==1].exp_group.count()}\")"
   ]
  },
  {
   "cell_type": "code",
   "execution_count": 54,
   "id": "662a8143",
   "metadata": {},
   "outputs": [
    {
     "data": {
      "text/plain": [
       "(3.0654013444935817, 0.07997541113120611)"
      ]
     },
     "execution_count": 54,
     "metadata": {},
     "output_type": "execute_result"
    }
   ],
   "source": [
    "stat, p, dof, expected = stats.chi2_contingency(tablet_crosstab)\n",
    "stat, p"
   ]
  },
  {
   "cell_type": "code",
   "execution_count": 55,
   "id": "7e2bf32e",
   "metadata": {},
   "outputs": [
    {
     "data": {
      "text/plain": [
       "Ttest_indResult(statistic=-1.875493697547632, pvalue=0.06115246803267521)"
      ]
     },
     "execution_count": 55,
     "metadata": {},
     "output_type": "execute_result"
    }
   ],
   "source": [
    "stats.ttest_ind(tablet_conv[tablet_conv['exp_group']==0].is_paid_cur, tablet_conv[tablet_conv['exp_group']==1].is_paid_cur)"
   ]
  },
  {
   "cell_type": "markdown",
   "id": "36c47274",
   "metadata": {},
   "source": [
    "At this part we did 4 exps. \n",
    "H0 - No changes \n",
    "H1 - Find statistic changes\n",
    "\n",
    "We split exps in two slises - exp_group and devicec.\n",
    "In each of them p-val > 0.05. its meen that we could not break H0"
   ]
  },
  {
   "cell_type": "markdown",
   "id": "7efc1ecb",
   "metadata": {},
   "source": [
    "## 3.2. Quantitative"
   ]
  },
  {
   "cell_type": "code",
   "execution_count": null,
   "id": "c653951f",
   "metadata": {},
   "outputs": [],
   "source": []
  },
  {
   "cell_type": "code",
   "execution_count": null,
   "id": "76b1306a",
   "metadata": {},
   "outputs": [],
   "source": [
    "revenue = full_exp[['exp_group', 'user_id', 'spendings_cur', 'spendings_bfr']]"
   ]
  },
  {
   "cell_type": "code",
   "execution_count": null,
   "id": "1261d095",
   "metadata": {},
   "outputs": [],
   "source": [
    "revenue"
   ]
  },
  {
   "cell_type": "code",
   "execution_count": null,
   "id": "8b18f756",
   "metadata": {},
   "outputs": [],
   "source": [
    "spend = full_exp[['exp_group', 'user_id', 'spendings_cur']]\n",
    "spend_0 = spend[spend['exp_group']==0].spendings_cur\n",
    "spend_1 = spend[spend['exp_group']==1].spendings_cur\n",
    "\n",
    "print(f'{spend_0.mean()}')\n",
    "print(f'{spend_1.mean()}')"
   ]
  },
  {
   "cell_type": "code",
   "execution_count": null,
   "id": "1df0ce35",
   "metadata": {},
   "outputs": [],
   "source": [
    "sns.histplot(data = spend_0)\n",
    "sns.histplot(data = spend_1)"
   ]
  },
  {
   "cell_type": "code",
   "execution_count": null,
   "id": "19f01bed",
   "metadata": {},
   "outputs": [],
   "source": [
    "sns.boxplot(data = spend_0)"
   ]
  },
  {
   "cell_type": "code",
   "execution_count": null,
   "id": "20b0b0dc",
   "metadata": {},
   "outputs": [],
   "source": [
    "stats.ttest_ind(spend_0, spend_1)"
   ]
  },
  {
   "cell_type": "code",
   "execution_count": null,
   "id": "a40317e8",
   "metadata": {},
   "outputs": [],
   "source": [
    "revenue_cur = full_exp[['exp_group', 'user_id', 'spendings_cur']]\n",
    "revenue_cur = revenue_cur[revenue_cur['spendings_cur']>0]\n",
    "revenue_cur['spendings_cur_log'] = np.log(revenue_cur['spendings_cur'] )"
   ]
  },
  {
   "cell_type": "code",
   "execution_count": null,
   "id": "d31e2d34",
   "metadata": {},
   "outputs": [],
   "source": [
    "revenue_cur"
   ]
  },
  {
   "cell_type": "code",
   "execution_count": null,
   "id": "703984d4",
   "metadata": {},
   "outputs": [],
   "source": [
    "print(f'{revenue_cur.spendings_cur.std()}')\n",
    "print(f'{revenue_cur.spendings_cur_log.std()}')\n",
    "print(f'{revenue_cur.spendings_cur.mean()}')\n",
    "print(f'{revenue_cur.spendings_cur_log.mean()}')"
   ]
  },
  {
   "cell_type": "code",
   "execution_count": null,
   "id": "f0c56d65",
   "metadata": {},
   "outputs": [],
   "source": [
    "sns.histplot(revenue_cur.spendings_cur)"
   ]
  },
  {
   "cell_type": "code",
   "execution_count": null,
   "id": "e6f9f0e8",
   "metadata": {},
   "outputs": [],
   "source": [
    "sns.histplot(revenue_cur[revenue_cur['exp_group']==0].spendings_cur_log)\n",
    "sns.histplot(revenue_cur[revenue_cur['exp_group']==1].spendings_cur_log)"
   ]
  },
  {
   "cell_type": "code",
   "execution_count": null,
   "id": "004ac1df",
   "metadata": {},
   "outputs": [],
   "source": [
    "sns.histplot(revenue_cur[revenue_cur['exp_group']==0].spendings_cur)\n",
    "sns.histplot(revenue_cur[revenue_cur['exp_group']==1].spendings_cur)"
   ]
  },
  {
   "cell_type": "code",
   "execution_count": null,
   "id": "45ee8a88",
   "metadata": {},
   "outputs": [],
   "source": [
    "sns.boxplot(data = revenue_cur, x = 'spendings_cur' )"
   ]
  },
  {
   "cell_type": "code",
   "execution_count": null,
   "id": "063ef1b8",
   "metadata": {},
   "outputs": [],
   "source": [
    "sns.boxplot(data = revenue_cur[revenue_cur['exp_group']==0], x = 'spendings_cur_log')"
   ]
  },
  {
   "cell_type": "code",
   "execution_count": null,
   "id": "a45d3618",
   "metadata": {},
   "outputs": [],
   "source": [
    "sns.boxplot(data = revenue_cur[revenue_cur['exp_group']==1], x = 'spendings_cur_log')"
   ]
  },
  {
   "cell_type": "code",
   "execution_count": null,
   "id": "c8023593",
   "metadata": {},
   "outputs": [],
   "source": [
    "revenue_cur.describe()"
   ]
  },
  {
   "cell_type": "code",
   "execution_count": null,
   "id": "ce617acf",
   "metadata": {},
   "outputs": [],
   "source": [
    "revenue_cur.spendings_cur.max()"
   ]
  },
  {
   "cell_type": "code",
   "execution_count": null,
   "id": "6283f9ec",
   "metadata": {},
   "outputs": [],
   "source": [
    "stats.ttest_ind(revenue_cur[revenue_cur['exp_group']==0].spendings_cur_log, revenue_cur[revenue_cur['exp_group']==1].spendings_cur_log)"
   ]
  },
  {
   "cell_type": "code",
   "execution_count": null,
   "id": "dc7b0831",
   "metadata": {},
   "outputs": [],
   "source": [
    "stats.ttest_ind(revenue_cur[revenue_cur['exp_group']==0].spendings_cur, revenue_cur[revenue_cur['exp_group']==1].spendings_cur)"
   ]
  },
  {
   "cell_type": "markdown",
   "id": "276ccdfa",
   "metadata": {},
   "source": [
    "# n_sessions–per_user "
   ]
  },
  {
   "cell_type": "code",
   "execution_count": null,
   "id": "7670571e",
   "metadata": {},
   "outputs": [],
   "source": [
    "full_exp[['exp_group', 'user_id', 'session_cnt_cur', 'session_cnt_bfr']]"
   ]
  },
  {
   "cell_type": "code",
   "execution_count": null,
   "id": "95b54dce",
   "metadata": {},
   "outputs": [],
   "source": [
    "session_cnt = full_exp[['exp_group', 'user_id', 'session_cnt_cur', 'session_cnt_bfr']]"
   ]
  },
  {
   "cell_type": "code",
   "execution_count": null,
   "id": "c3d8c36a",
   "metadata": {},
   "outputs": [],
   "source": [
    "session_cnt_c = full_exp[['exp_group', 'user_id', 'session_cnt_cur']]"
   ]
  },
  {
   "cell_type": "code",
   "execution_count": null,
   "id": "9bd5f9dd",
   "metadata": {},
   "outputs": [],
   "source": [
    "session_cnt_c.describe()"
   ]
  },
  {
   "cell_type": "code",
   "execution_count": null,
   "id": "7c432354",
   "metadata": {},
   "outputs": [],
   "source": [
    "session_cnt_c_0 = session_cnt_c[session_cnt_c['exp_group']==0]\n",
    "session_cnt_c_1 = session_cnt_c[session_cnt_c['exp_group']==1]"
   ]
  },
  {
   "cell_type": "code",
   "execution_count": null,
   "id": "1eb9e920",
   "metadata": {},
   "outputs": [],
   "source": [
    "sns.boxplot(data = session_cnt_c_0, x = 'session_cnt_cur')"
   ]
  },
  {
   "cell_type": "code",
   "execution_count": null,
   "id": "e0a70938",
   "metadata": {
    "scrolled": true
   },
   "outputs": [],
   "source": [
    "sns.boxplot(data = session_cnt_c_1, x = 'session_cnt_cur')"
   ]
  },
  {
   "cell_type": "code",
   "execution_count": null,
   "id": "7caae8aa",
   "metadata": {},
   "outputs": [],
   "source": [
    "sns.histplot(session_cnt_c_0[session_cnt_c_0['session_cnt_cur']!=0].session_cnt_cur)\n",
    "sns.histplot(session_cnt_c_1[session_cnt_c_1['session_cnt_cur']!=0].session_cnt_cur)"
   ]
  },
  {
   "cell_type": "code",
   "execution_count": null,
   "id": "0644aa3d",
   "metadata": {},
   "outputs": [],
   "source": [
    "sns.histplot(np.log(session_cnt_c_0[session_cnt_c_0['session_cnt_cur']!=0].session_cnt_cur))\n",
    "sns.histplot(np.log(session_cnt_c_1[session_cnt_c_1['session_cnt_cur']!=0].session_cnt_cur))"
   ]
  },
  {
   "cell_type": "code",
   "execution_count": null,
   "id": "247d9c90",
   "metadata": {},
   "outputs": [],
   "source": [
    "stats.ttest_ind(session_cnt_c_0.session_cnt_cur, session_cnt_c_1.session_cnt_cur)"
   ]
  },
  {
   "cell_type": "markdown",
   "id": "7162f943",
   "metadata": {},
   "source": [
    "## avg_session_log_lengh–per_user "
   ]
  },
  {
   "cell_type": "code",
   "execution_count": null,
   "id": "bfc9813c",
   "metadata": {},
   "outputs": [],
   "source": [
    "total_session_log_length = full_exp[['exp_group', 'user_id', 'total_session_log_length_cur', 'total_session_log_length_bfr']]"
   ]
  },
  {
   "cell_type": "code",
   "execution_count": null,
   "id": "f8c6ea20",
   "metadata": {},
   "outputs": [],
   "source": [
    "total_session_log_length"
   ]
  },
  {
   "cell_type": "code",
   "execution_count": null,
   "id": "f14bdad1",
   "metadata": {},
   "outputs": [],
   "source": [
    "total_session_log_len = total_session_log_length[['exp_group', 'user_id', 'total_session_log_length_cur']]"
   ]
  },
  {
   "cell_type": "code",
   "execution_count": null,
   "id": "9e000c2d",
   "metadata": {},
   "outputs": [],
   "source": [
    "total_session_log_len.describe()"
   ]
  },
  {
   "cell_type": "code",
   "execution_count": null,
   "id": "1b11d3e7",
   "metadata": {},
   "outputs": [],
   "source": [
    "total_session_log_len[total_session_log_len['exp_group']==0].total_session_log_length_cur.mean()"
   ]
  },
  {
   "cell_type": "code",
   "execution_count": null,
   "id": "c2b5d47a",
   "metadata": {},
   "outputs": [],
   "source": [
    "total_session_log_len[total_session_log_len['exp_group']==1].total_session_log_length_cur.mean()"
   ]
  },
  {
   "cell_type": "code",
   "execution_count": null,
   "id": "d5bbf996",
   "metadata": {},
   "outputs": [],
   "source": [
    "sns.histplot(total_session_log_len[total_session_log_len['exp_group']==0].total_session_log_length_cur)\n",
    "sns.histplot(total_session_log_len[total_session_log_len['exp_group']==1].total_session_log_length_cur)"
   ]
  },
  {
   "cell_type": "code",
   "execution_count": null,
   "id": "14452b49",
   "metadata": {},
   "outputs": [],
   "source": [
    "sns.boxplot(data = total_session_log_len[total_session_log_len['exp_group']==0], x = 'total_session_log_length_cur')"
   ]
  },
  {
   "cell_type": "code",
   "execution_count": null,
   "id": "7958f575",
   "metadata": {},
   "outputs": [],
   "source": [
    "sns.boxplot(data = total_session_log_len[total_session_log_len['exp_group']==1], x = 'total_session_log_length_cur')"
   ]
  },
  {
   "cell_type": "code",
   "execution_count": null,
   "id": "f9bb15fe",
   "metadata": {},
   "outputs": [],
   "source": [
    "stats.ttest_ind(total_session_log_len[total_session_log_len['exp_group']==0].total_session_log_length_cur,\n",
    "               total_session_log_len[total_session_log_len['exp_group']==1].total_session_log_length_cur)"
   ]
  },
  {
   "cell_type": "markdown",
   "id": "647fa214",
   "metadata": {},
   "source": [
    "## 3.3. Ratio"
   ]
  },
  {
   "cell_type": "code",
   "execution_count": 57,
   "id": "a9a2ea6b",
   "metadata": {},
   "outputs": [],
   "source": [
    "average_check = full_exp[['exp_group', 'user_id', 'spendings_cur']]"
   ]
  },
  {
   "cell_type": "code",
   "execution_count": 58,
   "id": "2c4ba22a",
   "metadata": {},
   "outputs": [
    {
     "data": {
      "text/plain": [
       "3360.760520833333"
      ]
     },
     "execution_count": 58,
     "metadata": {},
     "output_type": "execute_result"
    }
   ],
   "source": [
    "average_check_contr = average_check[average_check['exp_group']==0]\n",
    "koef = average_check_contr.spendings_cur.sum()/average_check_contr.spendings_cur.count()\n",
    "koef"
   ]
  },
  {
   "cell_type": "code",
   "execution_count": 59,
   "id": "6eadf617",
   "metadata": {},
   "outputs": [
    {
     "data": {
      "text/html": [
       "<div>\n",
       "<style scoped>\n",
       "    .dataframe tbody tr th:only-of-type {\n",
       "        vertical-align: middle;\n",
       "    }\n",
       "\n",
       "    .dataframe tbody tr th {\n",
       "        vertical-align: top;\n",
       "    }\n",
       "\n",
       "    .dataframe thead th {\n",
       "        text-align: right;\n",
       "    }\n",
       "</style>\n",
       "<table border=\"1\" class=\"dataframe\">\n",
       "  <thead>\n",
       "    <tr style=\"text-align: right;\">\n",
       "      <th></th>\n",
       "      <th>exp_group</th>\n",
       "      <th>user_id</th>\n",
       "      <th>sum_price</th>\n",
       "      <th>count_purch</th>\n",
       "      <th>avg_check</th>\n",
       "      <th>lin_avg_chk</th>\n",
       "    </tr>\n",
       "  </thead>\n",
       "  <tbody>\n",
       "    <tr>\n",
       "      <th>0</th>\n",
       "      <td>0</td>\n",
       "      <td>125741107230500</td>\n",
       "      <td>0.0</td>\n",
       "      <td>1</td>\n",
       "      <td>0.0</td>\n",
       "      <td>-3360.760521</td>\n",
       "    </tr>\n",
       "    <tr>\n",
       "      <th>1</th>\n",
       "      <td>0</td>\n",
       "      <td>667585499425385</td>\n",
       "      <td>0.0</td>\n",
       "      <td>1</td>\n",
       "      <td>0.0</td>\n",
       "      <td>-3360.760521</td>\n",
       "    </tr>\n",
       "    <tr>\n",
       "      <th>2</th>\n",
       "      <td>0</td>\n",
       "      <td>681720336100105</td>\n",
       "      <td>0.0</td>\n",
       "      <td>1</td>\n",
       "      <td>0.0</td>\n",
       "      <td>-3360.760521</td>\n",
       "    </tr>\n",
       "    <tr>\n",
       "      <th>3</th>\n",
       "      <td>0</td>\n",
       "      <td>808009533082155</td>\n",
       "      <td>0.0</td>\n",
       "      <td>1</td>\n",
       "      <td>0.0</td>\n",
       "      <td>-3360.760521</td>\n",
       "    </tr>\n",
       "    <tr>\n",
       "      <th>4</th>\n",
       "      <td>0</td>\n",
       "      <td>1060467734156393</td>\n",
       "      <td>0.0</td>\n",
       "      <td>1</td>\n",
       "      <td>0.0</td>\n",
       "      <td>-3360.760521</td>\n",
       "    </tr>\n",
       "  </tbody>\n",
       "</table>\n",
       "</div>"
      ],
      "text/plain": [
       "   exp_group           user_id  sum_price  count_purch  avg_check  lin_avg_chk\n",
       "0          0   125741107230500        0.0            1        0.0 -3360.760521\n",
       "1          0   667585499425385        0.0            1        0.0 -3360.760521\n",
       "2          0   681720336100105        0.0            1        0.0 -3360.760521\n",
       "3          0   808009533082155        0.0            1        0.0 -3360.760521\n",
       "4          0  1060467734156393        0.0            1        0.0 -3360.760521"
      ]
     },
     "execution_count": 59,
     "metadata": {},
     "output_type": "execute_result"
    }
   ],
   "source": [
    "lin_avg_chk_df = average_check.groupby(['exp_group', 'user_id'], as_index=False)\\\n",
    "                                    .agg(sum_price=('spendings_cur', 'sum'), count_purch=('spendings_cur', 'count'))\n",
    "lin_avg_chk_df['avg_check'] = lin_avg_chk_df['sum_price']/lin_avg_chk_df['count_purch']\n",
    "lin_avg_chk_df['lin_avg_chk'] = lin_avg_chk_df['sum_price']-koef*lin_avg_chk_df['count_purch']\n",
    "lin_avg_chk_df.head()"
   ]
  },
  {
   "cell_type": "code",
   "execution_count": 60,
   "id": "680384a4",
   "metadata": {},
   "outputs": [
    {
     "data": {
      "text/html": [
       "<div>\n",
       "<style scoped>\n",
       "    .dataframe tbody tr th:only-of-type {\n",
       "        vertical-align: middle;\n",
       "    }\n",
       "\n",
       "    .dataframe tbody tr th {\n",
       "        vertical-align: top;\n",
       "    }\n",
       "\n",
       "    .dataframe thead th {\n",
       "        text-align: right;\n",
       "    }\n",
       "</style>\n",
       "<table border=\"1\" class=\"dataframe\">\n",
       "  <thead>\n",
       "    <tr style=\"text-align: right;\">\n",
       "      <th></th>\n",
       "      <th>exp_group</th>\n",
       "      <th>user_id</th>\n",
       "      <th>sum_price</th>\n",
       "      <th>count_purch</th>\n",
       "      <th>avg_check</th>\n",
       "      <th>lin_avg_chk</th>\n",
       "    </tr>\n",
       "  </thead>\n",
       "  <tbody>\n",
       "    <tr>\n",
       "      <th>count</th>\n",
       "      <td>50007.00000</td>\n",
       "      <td>5.000700e+04</td>\n",
       "      <td>5.000700e+04</td>\n",
       "      <td>50007.000000</td>\n",
       "      <td>5.000700e+04</td>\n",
       "      <td>5.000700e+04</td>\n",
       "    </tr>\n",
       "    <tr>\n",
       "      <th>mean</th>\n",
       "      <td>0.49775</td>\n",
       "      <td>4.607719e+18</td>\n",
       "      <td>3.441374e+03</td>\n",
       "      <td>1.001460</td>\n",
       "      <td>3.435975e+03</td>\n",
       "      <td>7.570746e+01</td>\n",
       "    </tr>\n",
       "    <tr>\n",
       "      <th>std</th>\n",
       "      <td>0.50000</td>\n",
       "      <td>2.670218e+18</td>\n",
       "      <td>2.421852e+04</td>\n",
       "      <td>0.046665</td>\n",
       "      <td>2.418899e+04</td>\n",
       "      <td>2.421813e+04</td>\n",
       "    </tr>\n",
       "    <tr>\n",
       "      <th>min</th>\n",
       "      <td>0.00000</td>\n",
       "      <td>1.257411e+14</td>\n",
       "      <td>0.000000e+00</td>\n",
       "      <td>1.000000</td>\n",
       "      <td>0.000000e+00</td>\n",
       "      <td>-1.344304e+04</td>\n",
       "    </tr>\n",
       "    <tr>\n",
       "      <th>25%</th>\n",
       "      <td>0.00000</td>\n",
       "      <td>2.310021e+18</td>\n",
       "      <td>0.000000e+00</td>\n",
       "      <td>1.000000</td>\n",
       "      <td>0.000000e+00</td>\n",
       "      <td>-3.360761e+03</td>\n",
       "    </tr>\n",
       "    <tr>\n",
       "      <th>50%</th>\n",
       "      <td>0.00000</td>\n",
       "      <td>4.584293e+18</td>\n",
       "      <td>0.000000e+00</td>\n",
       "      <td>1.000000</td>\n",
       "      <td>0.000000e+00</td>\n",
       "      <td>-3.360761e+03</td>\n",
       "    </tr>\n",
       "    <tr>\n",
       "      <th>75%</th>\n",
       "      <td>1.00000</td>\n",
       "      <td>6.925009e+18</td>\n",
       "      <td>0.000000e+00</td>\n",
       "      <td>1.000000</td>\n",
       "      <td>0.000000e+00</td>\n",
       "      <td>-3.360761e+03</td>\n",
       "    </tr>\n",
       "    <tr>\n",
       "      <th>max</th>\n",
       "      <td>1.00000</td>\n",
       "      <td>9.223273e+18</td>\n",
       "      <td>1.889594e+06</td>\n",
       "      <td>4.000000</td>\n",
       "      <td>1.889594e+06</td>\n",
       "      <td>1.886233e+06</td>\n",
       "    </tr>\n",
       "  </tbody>\n",
       "</table>\n",
       "</div>"
      ],
      "text/plain": [
       "         exp_group       user_id     sum_price   count_purch     avg_check  \\\n",
       "count  50007.00000  5.000700e+04  5.000700e+04  50007.000000  5.000700e+04   \n",
       "mean       0.49775  4.607719e+18  3.441374e+03      1.001460  3.435975e+03   \n",
       "std        0.50000  2.670218e+18  2.421852e+04      0.046665  2.418899e+04   \n",
       "min        0.00000  1.257411e+14  0.000000e+00      1.000000  0.000000e+00   \n",
       "25%        0.00000  2.310021e+18  0.000000e+00      1.000000  0.000000e+00   \n",
       "50%        0.00000  4.584293e+18  0.000000e+00      1.000000  0.000000e+00   \n",
       "75%        1.00000  6.925009e+18  0.000000e+00      1.000000  0.000000e+00   \n",
       "max        1.00000  9.223273e+18  1.889594e+06      4.000000  1.889594e+06   \n",
       "\n",
       "        lin_avg_chk  \n",
       "count  5.000700e+04  \n",
       "mean   7.570746e+01  \n",
       "std    2.421813e+04  \n",
       "min   -1.344304e+04  \n",
       "25%   -3.360761e+03  \n",
       "50%   -3.360761e+03  \n",
       "75%   -3.360761e+03  \n",
       "max    1.886233e+06  "
      ]
     },
     "execution_count": 60,
     "metadata": {},
     "output_type": "execute_result"
    }
   ],
   "source": [
    "lin_avg_chk_df.describe()"
   ]
  },
  {
   "cell_type": "code",
   "execution_count": 61,
   "id": "ca27e024",
   "metadata": {},
   "outputs": [
    {
     "data": {
      "text/plain": [
       "1.525359060805526e-11"
      ]
     },
     "execution_count": 61,
     "metadata": {},
     "output_type": "execute_result"
    }
   ],
   "source": [
    "lin_avg_chk_df[lin_avg_chk_df['exp_group']==0].lin_avg_chk.mean()"
   ]
  },
  {
   "cell_type": "code",
   "execution_count": 62,
   "id": "8398f4f5",
   "metadata": {},
   "outputs": [
    {
     "data": {
      "text/plain": [
       "152.09928032888703"
      ]
     },
     "execution_count": 62,
     "metadata": {},
     "output_type": "execute_result"
    }
   ],
   "source": [
    "lin_avg_chk_df[lin_avg_chk_df['exp_group']==1].lin_avg_chk.mean()"
   ]
  },
  {
   "cell_type": "code",
   "execution_count": 63,
   "id": "f2f79ad2",
   "metadata": {},
   "outputs": [
    {
     "data": {
      "text/plain": [
       "<AxesSubplot:xlabel='lin_avg_chk', ylabel='Count'>"
      ]
     },
     "execution_count": 63,
     "metadata": {},
     "output_type": "execute_result"
    },
    {
     "data": {
      "image/png": "[encoded data removed]",
      "text/plain": [
       "<Figure size 648x288 with 1 Axes>"
      ]
     },
     "metadata": {},
     "output_type": "display_data"
    }
   ],
   "source": [
    "sns.histplot(data = lin_avg_chk_df[lin_avg_chk_df['exp_group']==0], x = 'lin_avg_chk')"
   ]
  },
  {
   "cell_type": "code",
   "execution_count": 64,
   "id": "be9a11f4",
   "metadata": {},
   "outputs": [
    {
     "data": {
      "text/plain": [
       "Ttest_indResult(statistic=-0.702207345354302, pvalue=0.48255313393319843)"
      ]
     },
     "execution_count": 64,
     "metadata": {},
     "output_type": "execute_result"
    }
   ],
   "source": [
    "stats.ttest_ind(lin_avg_chk_df[lin_avg_chk_df['exp_group']==0].lin_avg_chk,\n",
    "               lin_avg_chk_df[lin_avg_chk_df['exp_group']==1].lin_avg_chk)"
   ]
  },
  {
   "cell_type": "code",
   "execution_count": null,
   "id": "83654b60",
   "metadata": {},
   "outputs": [],
   "source": []
  },
  {
   "cell_type": "code",
   "execution_count": null,
   "id": "6989a1e3",
   "metadata": {},
   "outputs": [],
   "source": []
  }
 ],
 "metadata": {
  "kernelspec": {
   "display_name": "Python 3 (ipykernel)",
   "language": "python",
   "name": "python3"
  },
  "language_info": {
   "codemirror_mode": {
    "name": "ipython",
    "version": 3
   },
   "file_extension": ".py",
   "mimetype": "text/x-python",
   "name": "python",
   "nbconvert_exporter": "python",
   "pygments_lexer": "ipython3",
   "version": "3.9.12"
  }
 },
 "nbformat": 4,
 "nbformat_minor": 5
}
